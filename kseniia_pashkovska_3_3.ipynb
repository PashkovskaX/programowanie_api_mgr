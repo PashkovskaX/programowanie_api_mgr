{
  "nbformat": 4,
  "nbformat_minor": 0,
  "metadata": {
    "colab": {
      "name": "kseniia_pashkovska_3_3.ipynb",
      "provenance": [],
      "collapsed_sections": [],
      "authorship_tag": "ABX9TyOZGpz4VlJrMbEysU7svTL0",
      "include_colab_link": true
    },
    "kernelspec": {
      "name": "python3",
      "display_name": "Python 3"
    },
    "language_info": {
      "name": "python"
    }
  },
  "cells": [
    {
      "cell_type": "markdown",
      "metadata": {
        "id": "view-in-github",
        "colab_type": "text"
      },
      "source": [
        "<a href=\"https://colab.research.google.com/github/PashkovskaX/programowanie_api_mgr/blob/main/kseniia_pashkovska_3_3.ipynb\" target=\"_parent\"><img src=\"https://colab.research.google.com/assets/colab-badge.svg\" alt=\"Open In Colab\"/></a>"
      ]
    },
    {
      "cell_type": "code",
      "metadata": {
        "colab": {
          "base_uri": "https://localhost:8080/"
        },
        "id": "sLzxTKdm0VqV",
        "outputId": "7d9a104b-b689-40d8-f52a-972f19f3b063"
      },
      "source": [
        "name = input('Provide your name: ')\n",
        "while True:\n",
        "  if name.isalpha():\n",
        "    break\n",
        "  name = input('Please, provide correct name!')\n",
        "\n",
        "surname = input('Provide your surname: ')\n",
        "while True:\n",
        "  if surname.isalpha():\n",
        "    break\n",
        "  surname = input('Please, provide correct surname!') \n",
        "\n",
        "age = input('Provide your age: ')\n",
        "while True:\n",
        "  if age.isdigit():\n",
        "    break\n",
        "  age = input('Please, provide correct age!') \n",
        "\n",
        "phone_number = input('Provide your phone number: ')\n",
        "while True:\n",
        "  if phone_number.isdigit() and len(phone_number) == 9:\n",
        "    break\n",
        "  phone_number = input('Please, provide correct phone number!')\n",
        "\n",
        "password_1 = input('Provide your password: ')\n",
        "password_2 = input('Repeat the password: ')\n",
        "while True:\n",
        "  if password_1 == password_2:\n",
        "    break\n",
        "  password_1 = input('Provide your password: ')\n",
        "  password_2 = input('Repeat the password: ')\n",
        "\n",
        "\n",
        "print('First and last name:' + name + ' ' + surname + ',' 'Age:' + age + ',' + 'Phone number:' \n",
        "      + phone_number + ',' + 'Your password cannot be shown due to security regulations!')"
      ],
      "execution_count": 7,
      "outputs": [
        {
          "output_type": "stream",
          "name": "stdout",
          "text": [
            "Provide your name: Kseniia\n",
            "Provide your surname: Pashkovska\n",
            "Provide your age: 23\n",
            "Provide your phone number: 123456789\n",
            "Provide your password: qwerty123\n",
            "Repeat the password: qwerty123\n",
            "First and last name:Kseniia Pashkovska,Age:23,Phone number:123456789,Your password cannot be shown due to security regulations!\n"
          ]
        }
      ]
    },
    {
      "cell_type": "code",
      "metadata": {
        "colab": {
          "base_uri": "https://localhost:8080/"
        },
        "id": "n7Wt_ygM3sHL",
        "outputId": "af1c065e-43e3-4d25-e8a3-2e5fa3dee0ce"
      },
      "source": [
        "print('If you type 0, the programm will be terminated')\n",
        "while True:\n",
        "    operator = input('Type the operator (+,-,*,/): ')\n",
        "    if operator == '0':\n",
        "        break\n",
        "    if operator in ('+', '-', '*', '/'):\n",
        "        x = float(input('x='))\n",
        "        y = float(input('y='))\n",
        "        if operator == '+':\n",
        "            print('%.2f' % (x+y))\n",
        "        elif operator == '-':\n",
        "            print('%.2f' % (x-y))\n",
        "        elif operator == '*':\n",
        "            print('%.2f' % (x*y))\n",
        "        elif operator == '/':\n",
        "            if y != 0:\n",
        "                print('%.2f' % (x/y))\n",
        "            else:\n",
        "                print('You cannot divide by 0!')\n",
        "    else:\n",
        "        print('''The operator is incorrect or cannot be processed by the program \n",
        "        as it iss written by super-junior!''')"
      ],
      "execution_count": 9,
      "outputs": [
        {
          "name": "stdout",
          "output_type": "stream",
          "text": [
            "If you type 0, the programm will be terminated\n",
            "Type the operator (+,-,*,/): +\n",
            "x=-10\n",
            "y=5\n",
            "-5.00\n",
            "Type the operator (+,-,*,/): /\n",
            "x=20\n",
            "y=40\n",
            "0.50\n",
            "Type the operator (+,-,*,/): -\n",
            "x=-10\n",
            "y=-5\n",
            "-5.00\n",
            "Type the operator (+,-,*,/): *\n",
            "x=2.5\n",
            "y=40\n",
            "100.00\n",
            "Type the operator (+,-,*,/): /\n",
            "x=10\n",
            "y=0\n",
            "You cannot divide by 0!\n",
            "Type the operator (+,-,*,/): p\n",
            "The operator is incorrect or cannot be processed by the program \n",
            "        as it iss written by super-junior!\n",
            "Type the operator (+,-,*,/): 0\n"
          ]
        }
      ]
    },
    {
      "cell_type": "code",
      "metadata": {
        "id": "5ZbO51oW3ak7"
      },
      "source": [
        ""
      ],
      "execution_count": null,
      "outputs": []
    }
  ]
}