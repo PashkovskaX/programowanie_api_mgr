{
  "nbformat": 4,
  "nbformat_minor": 0,
  "metadata": {
    "colab": {
      "name": "zadanie_domowe_7.ipynb",
      "provenance": [],
      "authorship_tag": "ABX9TyMYzTMV9yPIv68B5m7ltG3N",
      "include_colab_link": true
    },
    "kernelspec": {
      "name": "python3",
      "display_name": "Python 3"
    },
    "language_info": {
      "name": "python"
    }
  },
  "cells": [
    {
      "cell_type": "markdown",
      "metadata": {
        "id": "view-in-github",
        "colab_type": "text"
      },
      "source": [
        "<a href=\"https://colab.research.google.com/github/PashkovskaX/programowanie_api_mgr/blob/main/zadanie_domowe_7.ipynb\" target=\"_parent\"><img src=\"https://colab.research.google.com/assets/colab-badge.svg\" alt=\"Open In Colab\"/></a>"
      ]
    },
    {
      "cell_type": "code",
      "metadata": {
        "id": "chUtYdI61fMt"
      },
      "source": [
        "import pandas as pd\n",
        "import numpy as np\n",
        "import datetime as DT\n",
        "\n",
        "MAIN_DATA = pd.read_csv(\"/train.csv\")\n",
        "\n",
        "df = MAIN_DATA.copy()"
      ],
      "execution_count": null,
      "outputs": []
    },
    {
      "cell_type": "code",
      "metadata": {
        "id": "J9Z-eCqj4xE-",
        "colab": {
          "base_uri": "https://localhost:8080/",
          "height": 419
        },
        "outputId": "6bd8196b-da9e-4a7c-d302-135b90c57ebd"
      },
      "source": [
        "df[[\"Name\",\"Age\",\"Sex\"]]"
      ],
      "execution_count": null,
      "outputs": [
        {
          "output_type": "execute_result",
          "data": {
            "text/html": [
              "<div>\n",
              "<style scoped>\n",
              "    .dataframe tbody tr th:only-of-type {\n",
              "        vertical-align: middle;\n",
              "    }\n",
              "\n",
              "    .dataframe tbody tr th {\n",
              "        vertical-align: top;\n",
              "    }\n",
              "\n",
              "    .dataframe thead th {\n",
              "        text-align: right;\n",
              "    }\n",
              "</style>\n",
              "<table border=\"1\" class=\"dataframe\">\n",
              "  <thead>\n",
              "    <tr style=\"text-align: right;\">\n",
              "      <th></th>\n",
              "      <th>Name</th>\n",
              "      <th>Age</th>\n",
              "      <th>Sex</th>\n",
              "    </tr>\n",
              "  </thead>\n",
              "  <tbody>\n",
              "    <tr>\n",
              "      <th>0</th>\n",
              "      <td>Braund, Mr. Owen Harris</td>\n",
              "      <td>22.0</td>\n",
              "      <td>male</td>\n",
              "    </tr>\n",
              "    <tr>\n",
              "      <th>1</th>\n",
              "      <td>Cumings, Mrs. John Bradley (Florence Briggs Th...</td>\n",
              "      <td>38.0</td>\n",
              "      <td>female</td>\n",
              "    </tr>\n",
              "    <tr>\n",
              "      <th>2</th>\n",
              "      <td>Heikkinen, Miss. Laina</td>\n",
              "      <td>26.0</td>\n",
              "      <td>female</td>\n",
              "    </tr>\n",
              "    <tr>\n",
              "      <th>3</th>\n",
              "      <td>Futrelle, Mrs. Jacques Heath (Lily May Peel)</td>\n",
              "      <td>35.0</td>\n",
              "      <td>female</td>\n",
              "    </tr>\n",
              "    <tr>\n",
              "      <th>4</th>\n",
              "      <td>Allen, Mr. William Henry</td>\n",
              "      <td>35.0</td>\n",
              "      <td>male</td>\n",
              "    </tr>\n",
              "    <tr>\n",
              "      <th>...</th>\n",
              "      <td>...</td>\n",
              "      <td>...</td>\n",
              "      <td>...</td>\n",
              "    </tr>\n",
              "    <tr>\n",
              "      <th>886</th>\n",
              "      <td>Montvila, Rev. Juozas</td>\n",
              "      <td>27.0</td>\n",
              "      <td>male</td>\n",
              "    </tr>\n",
              "    <tr>\n",
              "      <th>887</th>\n",
              "      <td>Graham, Miss. Margaret Edith</td>\n",
              "      <td>19.0</td>\n",
              "      <td>female</td>\n",
              "    </tr>\n",
              "    <tr>\n",
              "      <th>888</th>\n",
              "      <td>Johnston, Miss. Catherine Helen \"Carrie\"</td>\n",
              "      <td>NaN</td>\n",
              "      <td>female</td>\n",
              "    </tr>\n",
              "    <tr>\n",
              "      <th>889</th>\n",
              "      <td>Behr, Mr. Karl Howell</td>\n",
              "      <td>26.0</td>\n",
              "      <td>male</td>\n",
              "    </tr>\n",
              "    <tr>\n",
              "      <th>890</th>\n",
              "      <td>Dooley, Mr. Patrick</td>\n",
              "      <td>32.0</td>\n",
              "      <td>male</td>\n",
              "    </tr>\n",
              "  </tbody>\n",
              "</table>\n",
              "<p>891 rows × 3 columns</p>\n",
              "</div>"
            ],
            "text/plain": [
              "                                                  Name   Age     Sex\n",
              "0                              Braund, Mr. Owen Harris  22.0    male\n",
              "1    Cumings, Mrs. John Bradley (Florence Briggs Th...  38.0  female\n",
              "2                               Heikkinen, Miss. Laina  26.0  female\n",
              "3         Futrelle, Mrs. Jacques Heath (Lily May Peel)  35.0  female\n",
              "4                             Allen, Mr. William Henry  35.0    male\n",
              "..                                                 ...   ...     ...\n",
              "886                              Montvila, Rev. Juozas  27.0    male\n",
              "887                       Graham, Miss. Margaret Edith  19.0  female\n",
              "888           Johnston, Miss. Catherine Helen \"Carrie\"   NaN  female\n",
              "889                              Behr, Mr. Karl Howell  26.0    male\n",
              "890                                Dooley, Mr. Patrick  32.0    male\n",
              "\n",
              "[891 rows x 3 columns]"
            ]
          },
          "metadata": {},
          "execution_count": 4
        }
      ]
    },
    {
      "cell_type": "code",
      "metadata": {
        "colab": {
          "base_uri": "https://localhost:8080/"
        },
        "id": "ucTeAdyZ4zUs",
        "outputId": "a890a982-3ef4-4c2a-d070-1dd0256cc904"
      },
      "source": [
        "df[\"Age\"].median()"
      ],
      "execution_count": null,
      "outputs": [
        {
          "output_type": "execute_result",
          "data": {
            "text/plain": [
              "28.0"
            ]
          },
          "metadata": {},
          "execution_count": 5
        }
      ]
    },
    {
      "cell_type": "code",
      "metadata": {
        "id": "-N3DRsQG41H8"
      },
      "source": [
        "df[\"Sex\"] = [elem.replace('female', '1') for elem in df[\"Sex\"]]\n",
        "df[\"Sex\"] = [elem.replace('male', '0') for elem in df[\"Sex\"]]\n",
        "\n",
        "#df[\"Sex\"] = [elem.replace(['female', 'male'], ['1','0']) for elem in df[\"Sex\"]]\n",
        "\n",
        "#df[\"Sex\"] = df[\"Sex\"].replace([\"female\", \"male\"], [\"1\", \"0\"])"
      ],
      "execution_count": null,
      "outputs": []
    },
    {
      "cell_type": "code",
      "metadata": {
        "id": "-r2kr7AK43A8",
        "colab": {
          "base_uri": "https://localhost:8080/"
        },
        "outputId": "1a5c5422-44bf-4f2a-e0df-1b5f663a0a24"
      },
      "source": [
        "values = df['Sex'].value_counts()\n",
        "print(values)\n",
        "  \n"
      ],
      "execution_count": null,
      "outputs": [
        {
          "output_type": "stream",
          "name": "stdout",
          "text": [
            "0    577\n",
            "1    314\n",
            "Name: Sex, dtype: int64\n"
          ]
        }
      ]
    },
    {
      "cell_type": "code",
      "metadata": {
        "colab": {
          "base_uri": "https://localhost:8080/"
        },
        "id": "Aj5w4xzq1YdV",
        "outputId": "d7494c5f-b3d7-425c-84e1-d497f39765e2"
      },
      "source": [
        "numeric_column = pd.Series(df[\"Age\"])\n",
        "age = pd.to_numeric(numeric_column)\n",
        "titanic_year = 1912\n",
        "dob = (titanic_year - age)\n",
        "#print(dob)\n",
        "\n",
        "df['Date of birth'] = dob\n",
        "print(df[['Name','Sex','Age','Date of birth']])"
      ],
      "execution_count": null,
      "outputs": [
        {
          "output_type": "stream",
          "name": "stdout",
          "text": [
            "                                                  Name Sex   Age  Date of birth\n",
            "0                              Braund, Mr. Owen Harris   0  22.0         1890.0\n",
            "1    Cumings, Mrs. John Bradley (Florence Briggs Th...   1  38.0         1874.0\n",
            "2                               Heikkinen, Miss. Laina   1  26.0         1886.0\n",
            "3         Futrelle, Mrs. Jacques Heath (Lily May Peel)   1  35.0         1877.0\n",
            "4                             Allen, Mr. William Henry   0  35.0         1877.0\n",
            "..                                                 ...  ..   ...            ...\n",
            "886                              Montvila, Rev. Juozas   0  27.0         1885.0\n",
            "887                       Graham, Miss. Margaret Edith   1  19.0         1893.0\n",
            "888           Johnston, Miss. Catherine Helen \"Carrie\"   1   NaN            NaN\n",
            "889                              Behr, Mr. Karl Howell   0  26.0         1886.0\n",
            "890                                Dooley, Mr. Patrick   0  32.0         1880.0\n",
            "\n",
            "[891 rows x 4 columns]\n"
          ]
        }
      ]
    }
  ]
}