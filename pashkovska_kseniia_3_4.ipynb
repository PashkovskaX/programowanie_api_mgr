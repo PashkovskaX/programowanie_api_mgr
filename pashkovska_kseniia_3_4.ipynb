{
  "nbformat": 4,
  "nbformat_minor": 0,
  "metadata": {
    "colab": {
      "name": "pashkovska_kseniia_3_4.ipynb",
      "provenance": [],
      "authorship_tag": "ABX9TyM5zfz5MMg7ximCBih0YGFG",
      "include_colab_link": true
    },
    "kernelspec": {
      "name": "python3",
      "display_name": "Python 3"
    },
    "language_info": {
      "name": "python"
    }
  },
  "cells": [
    {
      "cell_type": "markdown",
      "metadata": {
        "id": "view-in-github",
        "colab_type": "text"
      },
      "source": [
        "<a href=\"https://colab.research.google.com/github/PashkovskaX/programowanie_api_mgr/blob/main/pashkovska_kseniia_3_4.ipynb\" target=\"_parent\"><img src=\"https://colab.research.google.com/assets/colab-badge.svg\" alt=\"Open In Colab\"/></a>"
      ]
    },
    {
      "cell_type": "code",
      "metadata": {
        "colab": {
          "base_uri": "https://localhost:8080/"
        },
        "id": "GRD1go21RnWg",
        "outputId": "61bf536f-da34-4dc2-bfde-e849e1d71af8"
      },
      "source": [
        "#Zadanie_1\n",
        "\n",
        "n = int(input(\"Please, type number of rows:\"))\n",
        "for elem in range(1, n+1):\n",
        "    for i in range(1, elem):\n",
        "        print(i, end = '')\n",
        "    print('')\n"
      ],
      "execution_count": 6,
      "outputs": [
        {
          "output_type": "stream",
          "name": "stdout",
          "text": [
            "Please, type number of rows:9\n",
            "\n",
            "1\n",
            "12\n",
            "123\n",
            "1234\n",
            "12345\n",
            "123456\n",
            "1234567\n",
            "12345678\n"
          ]
        }
      ]
    },
    {
      "cell_type": "code",
      "metadata": {
        "colab": {
          "base_uri": "https://localhost:8080/"
        },
        "id": "3ZqvRTQTcy4F",
        "outputId": "8a06ff45-63c5-4fdb-e3fb-b49e6ae0858e"
      },
      "source": [
        "stars_normal = 5\n",
        "for elem in range(stars_normal):\n",
        "  for elem2 in range(elem):\n",
        "    print('*',end = \"\")\n",
        "  print(\"\")\n",
        "\n",
        "stars_inverted = 5\n",
        "for i in range (stars_inverted, 0, -1):\n",
        "    print(i * '*' + (stars_inverted-i) * ' ')"
      ],
      "execution_count": 10,
      "outputs": [
        {
          "output_type": "stream",
          "name": "stdout",
          "text": [
            "\n",
            "*\n",
            "**\n",
            "***\n",
            "****\n",
            "*****\n",
            "**** \n",
            "***  \n",
            "**   \n",
            "*    \n"
          ]
        }
      ]
    },
    {
      "cell_type": "code",
      "metadata": {
        "colab": {
          "base_uri": "https://localhost:8080/"
        },
        "id": "LcKhy3XnRXen",
        "outputId": "e56801e0-4d47-47c3-bfc1-3d482009f3ba"
      },
      "source": [
        "#Zadanie_3\n",
        "\n",
        "numbers = [6, 2, 3, 7, 1, 12, 56, 99]\n",
        "for elem in numbers:\n",
        "  if len(str(elem))==2:\n",
        "    change = numbers.index(elem)\n",
        "    numbers[change] = 'awesome word'\n",
        "print(numbers)\n",
        "\n",
        "numbers_initial_version = [6, 2, 3, 7, 1, 12, 56, 99]\n",
        "numbers_initial_version.sort()\n",
        "print(numbers_initial_version[0])"
      ],
      "execution_count": 4,
      "outputs": [
        {
          "output_type": "stream",
          "name": "stdout",
          "text": [
            "[6, 2, 3, 7, 1, 'awesome word', 'awesome word', 'awesome word']\n",
            "1\n"
          ]
        }
      ]
    }
  ]
}