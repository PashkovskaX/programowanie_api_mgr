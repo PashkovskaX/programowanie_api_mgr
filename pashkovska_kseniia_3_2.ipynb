{
  "nbformat": 4,
  "nbformat_minor": 0,
  "metadata": {
    "colab": {
      "name": "pashkovska_kseniia_3_2.ipynb",
      "provenance": [],
      "collapsed_sections": []
    },
    "kernelspec": {
      "name": "python3",
      "display_name": "Python 3"
    },
    "language_info": {
      "name": "python"
    }
  },
  "cells": [
    {
      "cell_type": "code",
      "metadata": {
        "colab": {
          "base_uri": "https://localhost:8080/"
        },
        "id": "z9SdC7jqME46",
        "outputId": "288d6409-44e1-4a3a-992f-b2e4f2f513fb"
      },
      "source": [
        "#1.a\n",
        "a = \"Uwielbiam zajecia z programowania\"\n",
        "print(a[13:23])"
      ],
      "execution_count": null,
      "outputs": [
        {
          "output_type": "stream",
          "name": "stdout",
          "text": [
            "ecia z pro\n"
          ]
        }
      ]
    },
    {
      "cell_type": "code",
      "metadata": {
        "colab": {
          "base_uri": "https://localhost:8080/"
        },
        "id": "bQeK_WWEMvSN",
        "outputId": "2481c982-8bed-430d-d288-bdab27a58be5"
      },
      "source": [
        "#1.b\n",
        "print(a[-33:None])"
      ],
      "execution_count": null,
      "outputs": [
        {
          "output_type": "stream",
          "name": "stdout",
          "text": [
            "Uwielbiam zajecia z programowania\n"
          ]
        }
      ]
    },
    {
      "cell_type": "code",
      "metadata": {
        "colab": {
          "base_uri": "https://localhost:8080/"
        },
        "id": "-WGWtJWjND5H",
        "outputId": "8d826193-7170-499b-ccb5-106fc2418f2e"
      },
      "source": [
        " #1.c\n",
        "len(a)\n",
        "print(a[1:34:3])"
      ],
      "execution_count": null,
      "outputs": [
        {
          "output_type": "stream",
          "name": "stdout",
          "text": [
            "wlazea oawi\n"
          ]
        }
      ]
    },
    {
      "cell_type": "code",
      "metadata": {
        "colab": {
          "base_uri": "https://localhost:8080/"
        },
        "id": "8kgNkGG-N4n5",
        "outputId": "4e2f6a72-ab77-4dda-d8f8-fbb6a5f807d6"
      },
      "source": [
        "#2.a\n",
        "b = \"\"\"Czarny to moj ulubiony kolor. \n",
        "Niestety kolor czarny bardzo szybko spiera sie\n",
        "z moich ubran.\n",
        "\"\"\"\n",
        "\n",
        "print(b.istitle())"
      ],
      "execution_count": null,
      "outputs": [
        {
          "output_type": "stream",
          "name": "stdout",
          "text": [
            "False\n"
          ]
        }
      ]
    },
    {
      "cell_type": "code",
      "metadata": {
        "colab": {
          "base_uri": "https://localhost:8080/"
        },
        "id": "1MI86qCpOosn",
        "outputId": "997b0b85-969f-4d1c-965d-ad6c2463208a"
      },
      "source": [
        "#2.b\n",
        "b[0].isupper()\n",
        "\n",
        "#if (b[0].isupper()):\n",
        "# print(True)\n",
        "#else:\n",
        "# print(False)"
      ],
      "execution_count": null,
      "outputs": [
        {
          "output_type": "stream",
          "name": "stdout",
          "text": [
            "True\n"
          ]
        }
      ]
    },
    {
      "cell_type": "code",
      "metadata": {
        "colab": {
          "base_uri": "https://localhost:8080/"
        },
        "id": "HjJdm5YzPziR",
        "outputId": "d3283bc2-b23f-44b3-f11c-9556fe890361"
      },
      "source": [
        "#2.c (first_option; problem: not all first words of the each sentences are\n",
        "# written from a capital letter; solution: second option)\n",
        "print(b.lower().replace(\"czarny\",\"bialy\").capitalize())"
      ],
      "execution_count": null,
      "outputs": [
        {
          "output_type": "stream",
          "name": "stdout",
          "text": [
            "Bialy to moj ulubiony kolor. niestety kolor bialy bardzo szybko\n",
            "spiera sie z moich ubran.\n",
            "\n"
          ]
        }
      ]
    },
    {
      "cell_type": "code",
      "metadata": {
        "id": "jr_wh1d_Lqi9",
        "colab": {
          "base_uri": "https://localhost:8080/"
        },
        "outputId": "4cb6f944-f9f6-4664-c336-929d08c4fc4d"
      },
      "source": [
        "#2.c (second_option)\n",
        "x = \"Czarny to moj ulubiony kolor.\"\n",
        "y = \"Niestety, kolor czarny szybko spiera sie z moich ubran.\"\n",
        "\n",
        "print(x.lower().replace(\"czarny\",\"bialy\").capitalize() + \" \" +\n",
        "      y.lower().replace(\"czarny\",\"bialy\").capitalize())"
      ],
      "execution_count": 22,
      "outputs": [
        {
          "output_type": "stream",
          "name": "stdout",
          "text": [
            "Bialy to moj ulubiony kolor. Niestety, kolor bialy szybko spiera sie z moich ubran.\n"
          ]
        }
      ]
    }
  ]
}