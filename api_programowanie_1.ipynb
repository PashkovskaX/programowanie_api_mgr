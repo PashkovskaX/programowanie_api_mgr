{
  "nbformat": 4,
  "nbformat_minor": 0,
  "metadata": {
    "colab": {
      "name": "Untitled0.ipynb",
      "provenance": [],
      "collapsed_sections": []
    },
    "kernelspec": {
      "name": "python3",
      "display_name": "Python 3"
    },
    "language_info": {
      "name": "python"
    }
  },
  "cells": [
    {
      "cell_type": "code",
      "metadata": {
        "colab": {
          "base_uri": "https://localhost:8080/"
        },
        "id": "nvEmVtTfWAS4",
        "outputId": "1b2747b4-121e-4e97-9843-2750043aac2c"
      },
      "source": [
        "print (\"Lorem ipsum dolor sit amet,\\n\" \"consectetur adipiscing elit,\\n\" \"sed do eiusmod tempor incididunt ut labore et dolore magna aliqua.\")"
      ],
      "execution_count": null,
      "outputs": [
        {
          "output_type": "stream",
          "name": "stdout",
          "text": [
            "Lorem ipsum dolor sit amet,\n",
            "consectetur adipiscing elit,\n",
            "sed do eiusmod tempor incididunt ut labore et dolore magna aliqua.\n"
          ]
        }
      ]
    },
    {
      "cell_type": "code",
      "metadata": {
        "colab": {
          "base_uri": "https://localhost:8080/"
        },
        "id": "O6l2IgYVXwt-",
        "outputId": "4fbcb7ff-160d-4a86-e357-c2342e8e6718"
      },
      "source": [
        "name = \"Xeniia\"\n",
        "age = 23\n",
        "body_temp = 36,6\n",
        "female = True\n",
        "\n",
        "print(name,age,body_temp,female)"
      ],
      "execution_count": null,
      "outputs": [
        {
          "output_type": "stream",
          "name": "stdout",
          "text": [
            "Xeniia 23 (36, 6) True\n"
          ]
        }
      ]
    },
    {
      "cell_type": "code",
      "metadata": {
        "colab": {
          "base_uri": "https://localhost:8080/"
        },
        "id": "huMvIrIuZ3Fo",
        "outputId": "64874cdb-a774-4704-a104-eb4305d8a54c"
      },
      "source": [
        "a = 5\n",
        "b = 2\n",
        "\n",
        "print(a+b,a-b,a*b,a/b,a**b,a%b,a//b)"
      ],
      "execution_count": null,
      "outputs": [
        {
          "output_type": "stream",
          "name": "stdout",
          "text": [
            "7 3 10 2.5 25 1 2\n"
          ]
        }
      ]
    },
    {
      "cell_type": "code",
      "metadata": {
        "colab": {
          "base_uri": "https://localhost:8080/"
        },
        "id": "7YdFZnRGaif7",
        "outputId": "65f1c03e-e5ee-441d-f179-784e02edbfd7"
      },
      "source": [
        "a = 1293472894758029458\n",
        "b = 1293472894758029458.2095843\n",
        "\n",
        "if a>b:\n",
        "  print(False)\n",
        "else:\n",
        "  print(True)\n",
        "\n",
        "\n"
      ],
      "execution_count": null,
      "outputs": [
        {
          "output_type": "stream",
          "name": "stdout",
          "text": [
            "True\n"
          ]
        }
      ]
    },
    {
      "cell_type": "code",
      "metadata": {
        "colab": {
          "base_uri": "https://localhost:8080/"
        },
        "id": "OybIiZvLgVP0",
        "outputId": "cecf5e61-db1d-43d6-cbab-d9f2cb16c46d"
      },
      "source": [
        "a = int(input('Enter your current income: '))\n",
        "b = float(input('Enter your income from the previous year: '))\n",
        "if a > b:\n",
        "  print(\"Wow, you're growing\")\n",
        "else:\n",
        "  print(\"Don't worry! Work hard ;)\")\n"
      ],
      "execution_count": null,
      "outputs": [
        {
          "output_type": "stream",
          "name": "stdout",
          "text": [
            "Enter your current income: 20\n",
            "Enter your income from the previous year: 30\n",
            "Don't worry! Work hard ;)\n"
          ]
        }
      ]
    },
    {
      "cell_type": "code",
      "metadata": {
        "colab": {
          "base_uri": "https://localhost:8080/"
        },
        "id": "Cz2W7FVkhpco",
        "outputId": "ef8085ab-0fad-44d0-b810-a45ab3421a09"
      },
      "source": [
        "a = \"Tab 1\"\n",
        "b = \"Tab 2\"\n",
        "sep = ' | '\n",
        "print(a,sep,b)"
      ],
      "execution_count": null,
      "outputs": [
        {
          "output_type": "stream",
          "name": "stdout",
          "text": [
            "Tab 1  |  Tab 2\n"
          ]
        }
      ]
    },
    {
      "cell_type": "code",
      "metadata": {
        "id": "_JglEcYLikKU"
      },
      "source": [
        ""
      ],
      "execution_count": null,
      "outputs": []
    }
  ]
}