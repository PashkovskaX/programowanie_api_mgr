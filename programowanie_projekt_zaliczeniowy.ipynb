{
  "nbformat": 4,
  "nbformat_minor": 0,
  "metadata": {
    "colab": {
      "name": "programowanie_projekt_zaliczeniowy.ipynb",
      "provenance": [],
      "collapsed_sections": [],
      "authorship_tag": "ABX9TyP4EorrFVCRe5/+9WMnR2D0",
      "include_colab_link": true
    },
    "kernelspec": {
      "name": "python3",
      "display_name": "Python 3"
    },
    "language_info": {
      "name": "python"
    }
  },
  "cells": [
    {
      "cell_type": "markdown",
      "metadata": {
        "id": "view-in-github",
        "colab_type": "text"
      },
      "source": [
        "<a href=\"https://colab.research.google.com/github/PashkovskaX/programowanie_api_mgr/blob/main/programowanie_projekt_zaliczeniowy.ipynb\" target=\"_parent\"><img src=\"https://colab.research.google.com/assets/colab-badge.svg\" alt=\"Open In Colab\"/></a>"
      ]
    },
    {
      "cell_type": "code",
      "execution_count": 1,
      "metadata": {
        "id": "qD8kLRESyrzA"
      },
      "outputs": [],
      "source": [
        "import pandas as pd\n",
        "\n",
        "MAIN_DATA = pd.read_csv(\"/content/all_tweets.csv\")\n",
        "df = MAIN_DATA.copy()\n"
      ]
    },
    {
      "cell_type": "markdown",
      "source": [
        "Cześć 1"
      ],
      "metadata": {
        "id": "IU1j-J2d2pn1"
      }
    },
    {
      "cell_type": "code",
      "source": [
        "#Zamień skróty nazw dni tygodnia na polskie odpowiedniki (pełne nazwy dni tygodnia) - kolumna created_at\n",
        "\n",
        "df[[\"created_at\"]]\n",
        "\n",
        "df[\"created_at\"] = [elem.replace('Mon', 'poniedziałek') for elem in df[\"created_at\"]]\n",
        "df[\"created_at\"] = [elem.replace('Tue', 'wtorek') for elem in df[\"created_at\"]]\n",
        "df[\"created_at\"] = [elem.replace('Wed', 'środa') for elem in df[\"created_at\"]]\n",
        "df[\"created_at\"] = [elem.replace('Thu', 'czwartek') for elem in df[\"created_at\"]]\n",
        "df[\"created_at\"] = [elem.replace('Fri', 'piątek') for elem in df[\"created_at\"]]\n",
        "df[\"created_at\"] = [elem.replace('Sat', 'sobota') for elem in df[\"created_at\"]]\n",
        "df[\"created_at\"] = [elem.replace('Sun', 'niedziela') for elem in df[\"created_at\"]]\n",
        "\n",
        "\n",
        "\n",
        "    "
      ],
      "metadata": {
        "id": "AKXcK2B62qfm"
      },
      "execution_count": 2,
      "outputs": []
    },
    {
      "cell_type": "code",
      "source": [
        "df[[\"created_at\"]]"
      ],
      "metadata": {
        "colab": {
          "base_uri": "https://localhost:8080/",
          "height": 419
        },
        "id": "fAq4jmB03lg1",
        "outputId": "f4a39daf-848a-48c0-8937-f2f986b9c301"
      },
      "execution_count": 25,
      "outputs": [
        {
          "output_type": "execute_result",
          "data": {
            "text/html": [
              "\n",
              "  <div id=\"df-9deaabe8-3a35-48da-a2d8-3ffd4783d4e8\">\n",
              "    <div class=\"colab-df-container\">\n",
              "      <div>\n",
              "<style scoped>\n",
              "    .dataframe tbody tr th:only-of-type {\n",
              "        vertical-align: middle;\n",
              "    }\n",
              "\n",
              "    .dataframe tbody tr th {\n",
              "        vertical-align: top;\n",
              "    }\n",
              "\n",
              "    .dataframe thead th {\n",
              "        text-align: right;\n",
              "    }\n",
              "</style>\n",
              "<table border=\"1\" class=\"dataframe\">\n",
              "  <thead>\n",
              "    <tr style=\"text-align: right;\">\n",
              "      <th></th>\n",
              "      <th>created_at</th>\n",
              "    </tr>\n",
              "  </thead>\n",
              "  <tbody>\n",
              "    <tr>\n",
              "      <th>235</th>\n",
              "      <td>czwartek May 13 12:46:04 +0000 2021</td>\n",
              "    </tr>\n",
              "    <tr>\n",
              "      <th>396</th>\n",
              "      <td>poniedziałek May 17 06:27:04 +0000 2021</td>\n",
              "    </tr>\n",
              "    <tr>\n",
              "      <th>255</th>\n",
              "      <td>czwartek May 13 09:12:49 +0000 2021</td>\n",
              "    </tr>\n",
              "    <tr>\n",
              "      <th>211</th>\n",
              "      <td>piątek May 14 15:46:44 +0000 2021</td>\n",
              "    </tr>\n",
              "    <tr>\n",
              "      <th>407</th>\n",
              "      <td>piątek May 14 15:44:16 +0000 2021</td>\n",
              "    </tr>\n",
              "    <tr>\n",
              "      <th>...</th>\n",
              "      <td>...</td>\n",
              "    </tr>\n",
              "    <tr>\n",
              "      <th>25</th>\n",
              "      <td>wtorek May 18 10:07:00 +0000 2021</td>\n",
              "    </tr>\n",
              "    <tr>\n",
              "      <th>35</th>\n",
              "      <td>poniedziałek May 17 11:06:00 +0000 2021</td>\n",
              "    </tr>\n",
              "    <tr>\n",
              "      <th>84</th>\n",
              "      <td>poniedziałek May 17 05:05:28 +0000 2021</td>\n",
              "    </tr>\n",
              "    <tr>\n",
              "      <th>5</th>\n",
              "      <td>wtorek May 18 16:35:52 +0000 2021</td>\n",
              "    </tr>\n",
              "    <tr>\n",
              "      <th>162</th>\n",
              "      <td>czwartek May 13 06:56:19 +0000 2021</td>\n",
              "    </tr>\n",
              "  </tbody>\n",
              "</table>\n",
              "<p>464 rows × 1 columns</p>\n",
              "</div>\n",
              "      <button class=\"colab-df-convert\" onclick=\"convertToInteractive('df-9deaabe8-3a35-48da-a2d8-3ffd4783d4e8')\"\n",
              "              title=\"Convert this dataframe to an interactive table.\"\n",
              "              style=\"display:none;\">\n",
              "        \n",
              "  <svg xmlns=\"http://www.w3.org/2000/svg\" height=\"24px\"viewBox=\"0 0 24 24\"\n",
              "       width=\"24px\">\n",
              "    <path d=\"M0 0h24v24H0V0z\" fill=\"none\"/>\n",
              "    <path d=\"M18.56 5.44l.94 2.06.94-2.06 2.06-.94-2.06-.94-.94-2.06-.94 2.06-2.06.94zm-11 1L8.5 8.5l.94-2.06 2.06-.94-2.06-.94L8.5 2.5l-.94 2.06-2.06.94zm10 10l.94 2.06.94-2.06 2.06-.94-2.06-.94-.94-2.06-.94 2.06-2.06.94z\"/><path d=\"M17.41 7.96l-1.37-1.37c-.4-.4-.92-.59-1.43-.59-.52 0-1.04.2-1.43.59L10.3 9.45l-7.72 7.72c-.78.78-.78 2.05 0 2.83L4 21.41c.39.39.9.59 1.41.59.51 0 1.02-.2 1.41-.59l7.78-7.78 2.81-2.81c.8-.78.8-2.07 0-2.86zM5.41 20L4 18.59l7.72-7.72 1.47 1.35L5.41 20z\"/>\n",
              "  </svg>\n",
              "      </button>\n",
              "      \n",
              "  <style>\n",
              "    .colab-df-container {\n",
              "      display:flex;\n",
              "      flex-wrap:wrap;\n",
              "      gap: 12px;\n",
              "    }\n",
              "\n",
              "    .colab-df-convert {\n",
              "      background-color: #E8F0FE;\n",
              "      border: none;\n",
              "      border-radius: 50%;\n",
              "      cursor: pointer;\n",
              "      display: none;\n",
              "      fill: #1967D2;\n",
              "      height: 32px;\n",
              "      padding: 0 0 0 0;\n",
              "      width: 32px;\n",
              "    }\n",
              "\n",
              "    .colab-df-convert:hover {\n",
              "      background-color: #E2EBFA;\n",
              "      box-shadow: 0px 1px 2px rgba(60, 64, 67, 0.3), 0px 1px 3px 1px rgba(60, 64, 67, 0.15);\n",
              "      fill: #174EA6;\n",
              "    }\n",
              "\n",
              "    [theme=dark] .colab-df-convert {\n",
              "      background-color: #3B4455;\n",
              "      fill: #D2E3FC;\n",
              "    }\n",
              "\n",
              "    [theme=dark] .colab-df-convert:hover {\n",
              "      background-color: #434B5C;\n",
              "      box-shadow: 0px 1px 3px 1px rgba(0, 0, 0, 0.15);\n",
              "      filter: drop-shadow(0px 1px 2px rgba(0, 0, 0, 0.3));\n",
              "      fill: #FFFFFF;\n",
              "    }\n",
              "  </style>\n",
              "\n",
              "      <script>\n",
              "        const buttonEl =\n",
              "          document.querySelector('#df-9deaabe8-3a35-48da-a2d8-3ffd4783d4e8 button.colab-df-convert');\n",
              "        buttonEl.style.display =\n",
              "          google.colab.kernel.accessAllowed ? 'block' : 'none';\n",
              "\n",
              "        async function convertToInteractive(key) {\n",
              "          const element = document.querySelector('#df-9deaabe8-3a35-48da-a2d8-3ffd4783d4e8');\n",
              "          const dataTable =\n",
              "            await google.colab.kernel.invokeFunction('convertToInteractive',\n",
              "                                                     [key], {});\n",
              "          if (!dataTable) return;\n",
              "\n",
              "          const docLinkHtml = 'Like what you see? Visit the ' +\n",
              "            '<a target=\"_blank\" href=https://colab.research.google.com/notebooks/data_table.ipynb>data table notebook</a>'\n",
              "            + ' to learn more about interactive tables.';\n",
              "          element.innerHTML = '';\n",
              "          dataTable['output_type'] = 'display_data';\n",
              "          await google.colab.output.renderOutput(dataTable, element);\n",
              "          const docLink = document.createElement('div');\n",
              "          docLink.innerHTML = docLinkHtml;\n",
              "          element.appendChild(docLink);\n",
              "        }\n",
              "      </script>\n",
              "    </div>\n",
              "  </div>\n",
              "  "
            ],
            "text/plain": [
              "                                  created_at\n",
              "235      czwartek May 13 12:46:04 +0000 2021\n",
              "396  poniedziałek May 17 06:27:04 +0000 2021\n",
              "255      czwartek May 13 09:12:49 +0000 2021\n",
              "211        piątek May 14 15:46:44 +0000 2021\n",
              "407        piątek May 14 15:44:16 +0000 2021\n",
              "..                                       ...\n",
              "25         wtorek May 18 10:07:00 +0000 2021\n",
              "35   poniedziałek May 17 11:06:00 +0000 2021\n",
              "84   poniedziałek May 17 05:05:28 +0000 2021\n",
              "5          wtorek May 18 16:35:52 +0000 2021\n",
              "162      czwartek May 13 06:56:19 +0000 2021\n",
              "\n",
              "[464 rows x 1 columns]"
            ]
          },
          "metadata": {},
          "execution_count": 25
        }
      ]
    },
    {
      "cell_type": "code",
      "source": [
        "#Zamień skróty nazw miesięcy na liczbowe odpowiedniki (np Jun na 06) - kolumna user_created_at\n",
        "\n",
        "df[[\"user_created_at\"]]\n",
        "\n",
        "df[\"user_created_at\"] = [elem.replace('Jan', '01') for elem in df[\"user_created_at\"]]\n",
        "df[\"user_created_at\"] = [elem.replace('Feb', '02') for elem in df[\"user_created_at\"]]\n",
        "df[\"user_created_at\"] = [elem.replace('Mar', '03') for elem in df[\"user_created_at\"]]\n",
        "df[\"user_created_at\"] = [elem.replace('Apr', '04') for elem in df[\"user_created_at\"]]\n",
        "df[\"user_created_at\"] = [elem.replace('May', '05') for elem in df[\"user_created_at\"]]\n",
        "df[\"user_created_at\"] = [elem.replace('Jun', '06') for elem in df[\"user_created_at\"]]\n",
        "df[\"user_created_at\"] = [elem.replace('Jul', '07') for elem in df[\"user_created_at\"]]\n",
        "df[\"user_created_at\"] = [elem.replace('Aug', '08') for elem in df[\"user_created_at\"]]\n",
        "df[\"user_created_at\"] = [elem.replace('Sep', '09') for elem in df[\"user_created_at\"]]\n",
        "df[\"user_created_at\"] = [elem.replace('Oct', '10') for elem in df[\"user_created_at\"]]\n",
        "df[\"user_created_at\"] = [elem.replace('Nov', '11') for elem in df[\"user_created_at\"]]\n",
        "df[\"user_created_at\"] = [elem.replace('Dec', '12') for elem in df[\"user_created_at\"]]\n",
        "\n"
      ],
      "metadata": {
        "id": "-YAFgskC5tEO"
      },
      "execution_count": 3,
      "outputs": []
    },
    {
      "cell_type": "code",
      "source": [
        "df[[\"user_created_at\"]]\n",
        "\n"
      ],
      "metadata": {
        "colab": {
          "base_uri": "https://localhost:8080/",
          "height": 419
        },
        "id": "Lc_doV3V59EQ",
        "outputId": "a9cab8a7-fc54-4373-d609-d1ff9670c3ed"
      },
      "execution_count": 26,
      "outputs": [
        {
          "output_type": "execute_result",
          "data": {
            "text/html": [
              "\n",
              "  <div id=\"df-f90f97f3-be3e-48b0-a41c-5c81480dadc8\">\n",
              "    <div class=\"colab-df-container\">\n",
              "      <div>\n",
              "<style scoped>\n",
              "    .dataframe tbody tr th:only-of-type {\n",
              "        vertical-align: middle;\n",
              "    }\n",
              "\n",
              "    .dataframe tbody tr th {\n",
              "        vertical-align: top;\n",
              "    }\n",
              "\n",
              "    .dataframe thead th {\n",
              "        text-align: right;\n",
              "    }\n",
              "</style>\n",
              "<table border=\"1\" class=\"dataframe\">\n",
              "  <thead>\n",
              "    <tr style=\"text-align: right;\">\n",
              "      <th></th>\n",
              "      <th>user_created_at</th>\n",
              "    </tr>\n",
              "  </thead>\n",
              "  <tbody>\n",
              "    <tr>\n",
              "      <th>235</th>\n",
              "      <td>2021-05-13 12:17:22+00:00</td>\n",
              "    </tr>\n",
              "    <tr>\n",
              "      <th>396</th>\n",
              "      <td>2016-10-14 13:01:12+00:00</td>\n",
              "    </tr>\n",
              "    <tr>\n",
              "      <th>255</th>\n",
              "      <td>2019-04-05 08:28:17+00:00</td>\n",
              "    </tr>\n",
              "    <tr>\n",
              "      <th>211</th>\n",
              "      <td>2021-04-06 15:55:16+00:00</td>\n",
              "    </tr>\n",
              "    <tr>\n",
              "      <th>407</th>\n",
              "      <td>2021-04-06 15:55:16+00:00</td>\n",
              "    </tr>\n",
              "    <tr>\n",
              "      <th>...</th>\n",
              "      <td>...</td>\n",
              "    </tr>\n",
              "    <tr>\n",
              "      <th>25</th>\n",
              "      <td>2010-09-24 01:14:56+00:00</td>\n",
              "    </tr>\n",
              "    <tr>\n",
              "      <th>35</th>\n",
              "      <td>2009-06-15 09:00:38+00:00</td>\n",
              "    </tr>\n",
              "    <tr>\n",
              "      <th>84</th>\n",
              "      <td>2009-06-15 09:00:38+00:00</td>\n",
              "    </tr>\n",
              "    <tr>\n",
              "      <th>5</th>\n",
              "      <td>2009-06-15 09:00:38+00:00</td>\n",
              "    </tr>\n",
              "    <tr>\n",
              "      <th>162</th>\n",
              "      <td>2009-01-19 10:38:55+00:00</td>\n",
              "    </tr>\n",
              "  </tbody>\n",
              "</table>\n",
              "<p>464 rows × 1 columns</p>\n",
              "</div>\n",
              "      <button class=\"colab-df-convert\" onclick=\"convertToInteractive('df-f90f97f3-be3e-48b0-a41c-5c81480dadc8')\"\n",
              "              title=\"Convert this dataframe to an interactive table.\"\n",
              "              style=\"display:none;\">\n",
              "        \n",
              "  <svg xmlns=\"http://www.w3.org/2000/svg\" height=\"24px\"viewBox=\"0 0 24 24\"\n",
              "       width=\"24px\">\n",
              "    <path d=\"M0 0h24v24H0V0z\" fill=\"none\"/>\n",
              "    <path d=\"M18.56 5.44l.94 2.06.94-2.06 2.06-.94-2.06-.94-.94-2.06-.94 2.06-2.06.94zm-11 1L8.5 8.5l.94-2.06 2.06-.94-2.06-.94L8.5 2.5l-.94 2.06-2.06.94zm10 10l.94 2.06.94-2.06 2.06-.94-2.06-.94-.94-2.06-.94 2.06-2.06.94z\"/><path d=\"M17.41 7.96l-1.37-1.37c-.4-.4-.92-.59-1.43-.59-.52 0-1.04.2-1.43.59L10.3 9.45l-7.72 7.72c-.78.78-.78 2.05 0 2.83L4 21.41c.39.39.9.59 1.41.59.51 0 1.02-.2 1.41-.59l7.78-7.78 2.81-2.81c.8-.78.8-2.07 0-2.86zM5.41 20L4 18.59l7.72-7.72 1.47 1.35L5.41 20z\"/>\n",
              "  </svg>\n",
              "      </button>\n",
              "      \n",
              "  <style>\n",
              "    .colab-df-container {\n",
              "      display:flex;\n",
              "      flex-wrap:wrap;\n",
              "      gap: 12px;\n",
              "    }\n",
              "\n",
              "    .colab-df-convert {\n",
              "      background-color: #E8F0FE;\n",
              "      border: none;\n",
              "      border-radius: 50%;\n",
              "      cursor: pointer;\n",
              "      display: none;\n",
              "      fill: #1967D2;\n",
              "      height: 32px;\n",
              "      padding: 0 0 0 0;\n",
              "      width: 32px;\n",
              "    }\n",
              "\n",
              "    .colab-df-convert:hover {\n",
              "      background-color: #E2EBFA;\n",
              "      box-shadow: 0px 1px 2px rgba(60, 64, 67, 0.3), 0px 1px 3px 1px rgba(60, 64, 67, 0.15);\n",
              "      fill: #174EA6;\n",
              "    }\n",
              "\n",
              "    [theme=dark] .colab-df-convert {\n",
              "      background-color: #3B4455;\n",
              "      fill: #D2E3FC;\n",
              "    }\n",
              "\n",
              "    [theme=dark] .colab-df-convert:hover {\n",
              "      background-color: #434B5C;\n",
              "      box-shadow: 0px 1px 3px 1px rgba(0, 0, 0, 0.15);\n",
              "      filter: drop-shadow(0px 1px 2px rgba(0, 0, 0, 0.3));\n",
              "      fill: #FFFFFF;\n",
              "    }\n",
              "  </style>\n",
              "\n",
              "      <script>\n",
              "        const buttonEl =\n",
              "          document.querySelector('#df-f90f97f3-be3e-48b0-a41c-5c81480dadc8 button.colab-df-convert');\n",
              "        buttonEl.style.display =\n",
              "          google.colab.kernel.accessAllowed ? 'block' : 'none';\n",
              "\n",
              "        async function convertToInteractive(key) {\n",
              "          const element = document.querySelector('#df-f90f97f3-be3e-48b0-a41c-5c81480dadc8');\n",
              "          const dataTable =\n",
              "            await google.colab.kernel.invokeFunction('convertToInteractive',\n",
              "                                                     [key], {});\n",
              "          if (!dataTable) return;\n",
              "\n",
              "          const docLinkHtml = 'Like what you see? Visit the ' +\n",
              "            '<a target=\"_blank\" href=https://colab.research.google.com/notebooks/data_table.ipynb>data table notebook</a>'\n",
              "            + ' to learn more about interactive tables.';\n",
              "          element.innerHTML = '';\n",
              "          dataTable['output_type'] = 'display_data';\n",
              "          await google.colab.output.renderOutput(dataTable, element);\n",
              "          const docLink = document.createElement('div');\n",
              "          docLink.innerHTML = docLinkHtml;\n",
              "          element.appendChild(docLink);\n",
              "        }\n",
              "      </script>\n",
              "    </div>\n",
              "  </div>\n",
              "  "
            ],
            "text/plain": [
              "              user_created_at\n",
              "235 2021-05-13 12:17:22+00:00\n",
              "396 2016-10-14 13:01:12+00:00\n",
              "255 2019-04-05 08:28:17+00:00\n",
              "211 2021-04-06 15:55:16+00:00\n",
              "407 2021-04-06 15:55:16+00:00\n",
              "..                        ...\n",
              "25  2010-09-24 01:14:56+00:00\n",
              "35  2009-06-15 09:00:38+00:00\n",
              "84  2009-06-15 09:00:38+00:00\n",
              "5   2009-06-15 09:00:38+00:00\n",
              "162 2009-01-19 10:38:55+00:00\n",
              "\n",
              "[464 rows x 1 columns]"
            ]
          },
          "metadata": {},
          "execution_count": 26
        }
      ]
    },
    {
      "cell_type": "code",
      "source": [
        "#Pobierz wszystkie linki do tweetów i przekaż je do listy.\n",
        "\n",
        "urls_1 = df['tweet_url'].tolist()\n",
        "print(urls_1)"
      ],
      "metadata": {
        "colab": {
          "base_uri": "https://localhost:8080/"
        },
        "id": "SumljLOL6WOY",
        "outputId": "11f79cbb-9b0d-42bd-93ea-216d11c047a6"
      },
      "execution_count": 27,
      "outputs": [
        {
          "output_type": "stream",
          "name": "stdout",
          "text": [
            "['https://twitter.com/Agniesz13/status/1392823457755316229', 'https://twitter.com/komplex_service/status/1394177631109660672', 'https://twitter.com/xlovelyme3/status/1392769793804091396', 'https://twitter.com/ZsekN/status/1393231314032209921', 'https://twitter.com/ZsekN/status/1393230692398534664', 'https://twitter.com/Maciej_Polyga/status/1393577933797826560', 'https://twitter.com/Cya68638724/status/1394528288886988803', 'https://twitter.com/KevinPL23583966/status/1393620958494302209', 'https://twitter.com/Maciek73048065/status/1393682291344515073', 'https://twitter.com/AAkceptacja/status/1394019363221561352', 'https://twitter.com/aftersunrise73/status/1394349626380197892', 'https://twitter.com/mozedzisiaj/status/1392918495332085775', 'https://twitter.com/Agatatatarara/status/1392821124770287619', 'https://twitter.com/JanWodnik/status/1394421026122051590', 'https://twitter.com/Gregor40306987/status/1393191103612997634', 'https://twitter.com/revonsdeeee/status/1393129275616808960', 'https://twitter.com/mczajka2/status/1394605741663735810', 'https://twitter.com/Mao_Cena/status/1393856612352372736', 'https://twitter.com/whoisjulsk/status/1393160048185122817', 'https://twitter.com/KlimiukLeszek/status/1394219423507099649', 'https://twitter.com/nasi_owska/status/1394359393660162051', 'https://twitter.com/AdamLodz21/status/1394187550307278851', 'https://twitter.com/beata08457083/status/1393239395742986242', 'https://twitter.com/Olga30014265/status/1394202976328327168', 'https://twitter.com/Grzechu48401897/status/1393893706231648258', 'https://twitter.com/noteventherain0/status/1392753907768696836', 'https://twitter.com/m18011701/status/1394593169157857280', 'https://twitter.com/DejvObserwator/status/1394541868399173635', 'https://twitter.com/seulflirts/status/1394291924106895362', 'https://twitter.com/tycj4n/status/1394216822484963328', 'https://twitter.com/MStachecka/status/1394032877164236801', 'https://twitter.com/rad_r007/status/1393289053563408386', 'https://twitter.com/Agniesz82515635/status/1393556571565826056', 'https://twitter.com/niezgodka_adas/status/1394379338414534663', 'https://twitter.com/krzysztof_godek/status/1393849101561774085', 'https://twitter.com/kucPospolity/status/1393911404575576065', 'https://twitter.com/antybodys/status/1392835590404542473', 'https://twitter.com/gacus1025/status/1392916384686948357', 'https://twitter.com/GrimHoney/status/1394295900017762307', 'https://twitter.com/buruazji/status/1394570702070681602', 'https://twitter.com/buruazji/status/1392758294255648769', 'https://twitter.com/BartoszBrudz/status/1394348902212636673', 'https://twitter.com/agatabednarczy1/status/1394935478756024320', 'https://twitter.com/BubaFatal/status/1394396409999286273', 'https://twitter.com/08_V_G_03/status/1393865432113852416', 'https://twitter.com/pastelowydebil/status/1394342715928817664', 'https://twitter.com/WeDs85571646/status/1394525212583075842', 'https://twitter.com/Szolajski_Legal/status/1392795780696715274', 'https://twitter.com/pepezetr/status/1394189820763770881', 'https://twitter.com/gasiennica1/status/1392880801159786502', 'https://twitter.com/Imnottttyou/status/1392832262673162240', 'https://twitter.com/wpizamce/status/1392732165339848706', 'https://twitter.com/ai_umcs/status/1393524403615436802', 'https://twitter.com/borczas/status/1393908571142819841', 'https://twitter.com/pkswiniarski/status/1394573121714282498', 'https://twitter.com/JoannaSheeper/status/1393090537058672643', 'https://twitter.com/prettyrealness/status/1392797762501156869', 'https://twitter.com/gryzanio/status/1393634065874554880', 'https://twitter.com/picolonadywanie/status/1394174663996198916', 'https://twitter.com/jar_lipke/status/1393844090815619075', 'https://twitter.com/victoriaxc_/status/1393242023692541958', 'https://twitter.com/Mariusz05025167/status/1393899300938297344', 'https://twitter.com/xsleepyfairy/status/1392828802204676096', 'https://twitter.com/michalkuzi/status/1393900389947293696', 'https://twitter.com/Maciej_Barnas/status/1393183027841445891', 'https://twitter.com/JoannaKotowska2/status/1393953601354182661', 'https://twitter.com/szolajskimarcin/status/1393894034297524226', 'https://twitter.com/HyraMichal/status/1393484270950359043', 'https://twitter.com/AAzenska/status/1394604110935216132', 'https://twitter.com/marekmarian/status/1393266540695392266', 'https://twitter.com/Janek29409198/status/1394723646678110211', 'https://twitter.com/MitPolska/status/1392731678939000834', 'https://twitter.com/aw_dudek/status/1393183893541511176', 'https://twitter.com/PJG_Kalisz/status/1393875280612282368', 'https://twitter.com/Kamil_Ma1/status/1394976816503349253', 'https://twitter.com/Jan57724308/status/1394623187581915137', 'https://twitter.com/mysiaac/status/1394369203054944257', 'https://twitter.com/RozmarzonaOna/status/1394152685427961856', 'https://twitter.com/tandrysz/status/1393565681225015304', 'https://twitter.com/Knartz3/status/1394248182780121088', 'https://twitter.com/RawAirek/status/1394218964738265088', 'https://twitter.com/kat1312_/status/1394659358403870722', 'https://twitter.com/IzaJarska/status/1393813912483729412', 'https://twitter.com/LublinPraca/status/1394958045659152389', 'https://twitter.com/AdrianaGajdecka/status/1394978754980614148', 'https://twitter.com/wojciech_kac/status/1392754128556802050', 'https://twitter.com/wojciech_kac/status/1392754383692210182', 'https://twitter.com/wojciech_kac/status/1392754642451369986', 'https://twitter.com/wojciech_kac/status/1392755734404812800', 'https://twitter.com/wojciech_kac/status/1393113468287557636', 'https://twitter.com/wojciech_kac/status/1393113660734808065', 'https://twitter.com/babkazpiasku/status/1394173534973345793', 'https://twitter.com/kingwoj/status/1392777068010672128', 'https://twitter.com/wojciech_kac/status/1393113433575395328', 'https://twitter.com/wojciech_kac/status/1392754691264634881', 'https://twitter.com/wojciech_kac/status/1392755946569482241', 'https://twitter.com/wojciech_kac/status/1393111090947575808', 'https://twitter.com/wojciech_kac/status/1393113376985948163', 'https://twitter.com/wojciech_kac/status/1392755569275117568', 'https://twitter.com/ZielonyPit/status/1393907594914410499', 'https://twitter.com/szymonowedyk/status/1393197421878992904', 'https://twitter.com/szymonowedyk/status/1395000792189476867', 'https://twitter.com/PaweNow75204592/status/1393524188762320897', 'https://twitter.com/niewidzialni_eu/status/1394905467760091137', 'https://twitter.com/xblahxu/status/1394152442846228483', 'https://twitter.com/corobicjakzyc/status/1394328089614864388', 'https://twitter.com/kin_dzix/status/1393154114570395648', 'https://twitter.com/karolcholewa/status/1394971180298379266', 'https://twitter.com/DerolTadeusz/status/1392801450452037632', 'https://twitter.com/Mimi2ML/status/1393997397001445382', 'https://twitter.com/PiotrStaniosz/status/1392855044731686913', 'https://twitter.com/direct_money_pl/status/1394585781625368576', 'https://twitter.com/zebytygrysa/status/1393154832857448448', 'https://twitter.com/Pani_Hyde/status/1393490640613298177', 'https://twitter.com/hazvlou/status/1394673828027113476', 'https://twitter.com/Truteacher62/status/1393905888713392129', 'https://twitter.com/ifearboredom/status/1394058604878180355', 'https://twitter.com/_heyitsme13/status/1393233543040483329', 'https://twitter.com/Non_sequuntur/status/1393477046634942466', 'https://twitter.com/EmiliaM72373551/status/1393676290205511681', 'https://twitter.com/UrleSarah/status/1393068987723001858', 'https://twitter.com/RedGuyy/status/1393263051386888196', 'https://twitter.com/polak007ak/status/1393941645603782670', 'https://twitter.com/CzekoloveG/status/1394999224194981889', 'https://twitter.com/mastabaniak/status/1392824549822042117', 'https://twitter.com/Kolomyja/status/1394349118152224769', 'https://twitter.com/konprz/status/1394239749431472135', 'https://twitter.com/ZawadkaMarek/status/1393890401740853252', 'https://twitter.com/IzGdyzAlbowiem/status/1394725331790188545', 'https://twitter.com/wwonder988/status/1394977204665262080', 'https://twitter.com/Konkwistador16/status/1394371380808925185', 'https://twitter.com/iwantaxiong/status/1394992908474978310', 'https://twitter.com/KacperKunstler/status/1393556684258299904', 'https://twitter.com/Polterg61401401/status/1393505910375411713', 'https://twitter.com/tojaasku/status/1393090603521646592', 'https://twitter.com/Wrona_Dominik/status/1394401378617937920', 'https://twitter.com/RafalKorzeniec/status/1394421967420338179', 'https://twitter.com/strawmarry_/status/1393101667068006403', 'https://twitter.com/strawmarry_/status/1394965895584309250', 'https://twitter.com/RyszardBalicki2/status/1392890894307713031', 'https://twitter.com/a_miszczak/status/1393535158419181569', 'https://twitter.com/a_miszczak/status/1393859773494448128', 'https://twitter.com/Michal_S_RTS/status/1395004059103506438', 'https://twitter.com/kaczkanaostro/status/1394572301253890048', 'https://twitter.com/KKStrojek/status/1394883858701639684', 'https://twitter.com/JaroslawKobryn/status/1392886257139789831', 'https://twitter.com/vv1v__/status/1393107562678169605', 'https://twitter.com/MarekWitol/status/1394660570381570058', 'https://twitter.com/MORK_FURAS/status/1394537930929156099', 'https://twitter.com/rightsidetwitt/status/1393780103457423360', 'https://twitter.com/BasqaSz/status/1394270212309061633', 'https://twitter.com/free_warsaw/status/1394667940356759555', 'https://twitter.com/hideoPL/status/1395008868992831491', 'https://twitter.com/vodkasparkles/status/1394259573532397570', 'https://twitter.com/JedrzejPaulus/status/1394519169555738624', 'https://twitter.com/BrandsIT_pl/status/1393822343907012609', 'https://twitter.com/GrzegorzNexus/status/1394156301853331457', 'https://twitter.com/PiotrZagorowski/status/1393125997638266881', 'https://twitter.com/kamilab35/status/1394348161259409413', 'https://twitter.com/naynachayna/status/1393183288274178050', 'https://twitter.com/Me__da__lata/status/1394640895593615362', 'https://twitter.com/kupieckrzysztof/status/1393687466687746048', 'https://twitter.com/omitchell12/status/1392819025407877131', 'https://twitter.com/tranex100/status/1392736082953793536', 'https://twitter.com/JakDorobic/status/1394893530787635204', 'https://twitter.com/Lospolacos_2020/status/1394202560278540289', 'https://twitter.com/qn_vel/status/1394679154570932229', 'https://twitter.com/prasowiecpl/status/1392793135542112261', 'https://twitter.com/picturesofg_/status/1394983453125394438', 'https://twitter.com/itsclainev/status/1393871849893806086', 'https://twitter.com/SpaleniakJulita/status/1394657588864770053', 'https://twitter.com/Antoni75230049/status/1392859886908739586', 'https://twitter.com/AbiWarszawa/status/1392715267671830531', 'https://twitter.com/runaurufu/status/1394304074875641859', 'https://twitter.com/UZP_GOV_PL/status/1394286426188132353', 'https://twitter.com/weimxtx/status/1393220713247543298', 'https://twitter.com/Zometa17/status/1394353322556076036', 'https://twitter.com/grafzero2/status/1394990529734135811', 'https://twitter.com/xfallingxwalls/status/1394755578254217220', 'https://twitter.com/PlusWarszawa/status/1392906110995210242', 'https://twitter.com/StarostwoZywiec/status/1394931180378677248', 'https://twitter.com/sweetcreaturexv/status/1393147272817479680', 'https://twitter.com/az1701D/status/1392923391200567299', 'https://twitter.com/pomidorek/status/1394253175578890243', 'https://twitter.com/Kaacpee/status/1394554142715269120', 'https://twitter.com/airacobr/status/1394645194633621504', 'https://twitter.com/MonikaM1987/status/1395010828341063681', 'https://twitter.com/mimisprada/status/1394913357862408192', 'https://twitter.com/GrazynaZeta/status/1393544276647231488', 'https://twitter.com/zero_do_zera/status/1394784335409172488', 'https://twitter.com/CzlowiekBezOczu/status/1394512194524614660', 'https://twitter.com/DanGr1234567890/status/1394662279036157954', 'https://twitter.com/Joannagrka61/status/1394723160692609026', 'https://twitter.com/rzymianin/status/1392813992859549697', 'https://twitter.com/Bozena64265610/status/1392901175507406855', 'https://twitter.com/hentropyheart/status/1394889528377237505', 'https://twitter.com/JadowitaMeduza/status/1395025332189769733', 'https://twitter.com/charm_breeze/status/1394582372713107456', 'https://twitter.com/sokol33497/status/1394643729378590722', 'https://twitter.com/carlossitto/status/1392728761435672579', 'https://twitter.com/nsmeme/status/1393277358812147715', 'https://twitter.com/Mekk/status/1394296362636820481', 'https://twitter.com/JanuszFifielski/status/1394697476435845124', 'https://twitter.com/psmyrdek/status/1394322261142904835', 'https://twitter.com/LZwierzchowski/status/1393482529886416900', 'https://twitter.com/BartoszMazur_DP/status/1394566219706114050', 'https://twitter.com/sallywalkerxo/status/1394394541097197579', 'https://twitter.com/enzaismoki/status/1394920010963996680', 'https://twitter.com/trocken_nick/status/1393128902479040514', 'https://twitter.com/enzaismoki/status/1394651674946461696', 'https://twitter.com/assecods/status/1394963293886992384', 'https://twitter.com/magru89/status/1392768392554106885', 'https://twitter.com/artur_mokrzycki/status/1393917104794001411', 'https://twitter.com/MixFix84532379/status/1394355292457115648', 'https://twitter.com/MixFix84532379/status/1394354964722552834', 'https://twitter.com/MixFix84532379/status/1393149196211982343', 'https://twitter.com/MixFix84532379/status/1393149233734299649', 'https://twitter.com/DobryWhatr/status/1394999818494304261', 'https://twitter.com/matspcx/status/1394205815817613313', 'https://twitter.com/werlhh/status/1394946670383751170', 'https://twitter.com/AlleOpole/status/1393182796110352386', 'https://twitter.com/AlleOpole/status/1393183266132402183', 'https://twitter.com/AlleOpole/status/1393183356427415553', 'https://twitter.com/AlleOpole/status/1392812216861200385', 'https://twitter.com/AlleOpole/status/1393183307177811969', 'https://twitter.com/AlleOpole/status/1392812105108267011', 'https://twitter.com/AlleOpole/status/1392812159424413699', 'https://twitter.com/AlleOpole/status/1392812059109195782', 'https://twitter.com/Magdaiks/status/1394710981184475136', 'https://twitter.com/soipruk/status/1392877052676685825', 'https://twitter.com/soipruk/status/1392876323123642369', 'https://twitter.com/soipruk/status/1393511362052120577', 'https://twitter.com/GburiaFuria1/status/1393286077394432000', 'https://twitter.com/WojtN/status/1392716709400809476', 'https://twitter.com/Miss_Muscari/status/1394592285472575489', 'https://twitter.com/XerfThingol/status/1394601649004597251', 'https://twitter.com/XerfThingol/status/1394601160384917506', 'https://twitter.com/matizzabrza/status/1394568002054594560', 'https://twitter.com/Wercioq/status/1394240102742777856', 'https://twitter.com/Kriss_de_Valnor/status/1394576541506486274', 'https://twitter.com/tadeusz38725389/status/1394726814011035650', 'https://twitter.com/bordovewinko/status/1394196708708466693', 'https://twitter.com/BizblogPl/status/1394981108069109766', 'https://twitter.com/cruelandbeauty/status/1394650373051269123', 'https://twitter.com/belleezzax/status/1394902901596770306', 'https://twitter.com/GP95970517/status/1394529386628624384', 'https://twitter.com/IPowiatu/status/1394217722586742785', 'https://twitter.com/Pi44/status/1393884437092392963', 'https://twitter.com/ThankYouNiall22/status/1394244423479869441', 'https://twitter.com/GdanskCedrowa/status/1394256149877334020', 'https://twitter.com/PiotrSzyman/status/1394222172558725123', 'https://twitter.com/BogeyPol/status/1393569449240899586', 'https://twitter.com/BogeyPol/status/1394263216759394306', 'https://twitter.com/mkczarkowski/status/1394355745022517252', 'https://twitter.com/_miszka/status/1394219994129604608', 'https://twitter.com/Lovely_Jwrap/status/1394913490956136449', 'https://twitter.com/glamfem/status/1394243556030697475', 'https://twitter.com/Dariusz_Jaqub/status/1394738302213890049', 'https://twitter.com/HornowskaMaria/status/1394696170518286340', 'https://twitter.com/Agnieszka7398/status/1394033515524657157', 'https://twitter.com/grafitxt/status/1394138641262419972', 'https://twitter.com/huskion/status/1393058672872464385', 'https://twitter.com/InaKoniec/status/1393832133014212608', 'https://twitter.com/xszerlit2/status/1393116409807376384', 'https://twitter.com/licealnybelfer/status/1394201476663287808', 'https://twitter.com/pitterser/status/1394564912740016130', 'https://twitter.com/Agiewillow/status/1393493758105239554', 'https://twitter.com/hugo89412547/status/1393154122984067079', 'https://twitter.com/boctoginta/status/1393523654667952129', 'https://twitter.com/Alarm_szkolny/status/1392846120284528640', 'https://twitter.com/Alarm_szkolny/status/1393509008410087425', 'https://twitter.com/Alarm_szkolny/status/1393507168746459138', 'https://twitter.com/beatowska/status/1394682493249466368', 'https://twitter.com/7_mookie/status/1392905039656755200', 'https://twitter.com/sz_furman/status/1393875519028989953', 'https://twitter.com/KrzysztofBoguta/status/1393562395734380545', 'https://twitter.com/krytyczny_liber/status/1393823797808140290', 'https://twitter.com/MichalPomianows/status/1393697842527674368', 'https://twitter.com/ParviRafal/status/1394968825360232449', 'https://twitter.com/ilyjorgito/status/1394211918978637825', 'https://twitter.com/MareckMareck/status/1393482773583876097', 'https://twitter.com/paaandaxoxo/status/1393905808002490369', 'https://twitter.com/louloulovelouu/status/1393478516356833281', 'https://twitter.com/jud_czyta/status/1394358162719977473', 'https://twitter.com/tomo9000p/status/1393513822825197569', 'https://twitter.com/tomo9000p/status/1394569271435530240', 'https://twitter.com/Teresa12369786/status/1393935742670282763', 'https://twitter.com/Facecjonista/status/1394591381927120902', 'https://twitter.com/Facecjonista/status/1394580134078914562', 'https://twitter.com/Facecjonista/status/1394593100996259841', 'https://twitter.com/Facecjonista/status/1394601328769392642', 'https://twitter.com/hazzque/status/1394294892638134277', 'https://twitter.com/GGanszczyk/status/1394559752848486401', 'https://twitter.com/pawelglinski/status/1394371290920796169', 'https://twitter.com/unijnakapusta60/status/1393341857342627846', 'https://twitter.com/PannaKofeina/status/1394575542645633027', 'https://twitter.com/TEHOL6/status/1392911586667515905', 'https://twitter.com/marian_baczal/status/1394590130598522880', 'https://twitter.com/marian_baczal/status/1394380016469880843', 'https://twitter.com/marian_baczal/status/1394572239274717186', 'https://twitter.com/marychlak/status/1394999955316695047', 'https://twitter.com/marychlak/status/1395008369203765253', 'https://twitter.com/ulapanka/status/1395025974455115776', 'https://twitter.com/MaksAtak/status/1394703954617962499', 'https://twitter.com/Oskar03535039/status/1392742996660133890', 'https://twitter.com/wwwkigpl/status/1392770678982590464', 'https://twitter.com/R8uzz/status/1393561255735083010', 'https://twitter.com/TadekM11/status/1393175090225946624', 'https://twitter.com/candeur_/status/1394581496330166272', 'https://twitter.com/adela_rock/status/1393974906434596869', 'https://twitter.com/emitenci/status/1394935010826858496', 'https://twitter.com/Robert39937010/status/1394062409237680131', 'https://twitter.com/Robert39937010/status/1394264749894995969', 'https://twitter.com/KrzysztofKando1/status/1394741976038350849', 'https://twitter.com/TurskiPrezesK/status/1394565715647242243', 'https://twitter.com/TurskiPrezesK/status/1393985211478728707', 'https://twitter.com/TurskiPrezesK/status/1394564142028185608', 'https://twitter.com/VolwerineLogan/status/1395022372198043648', 'https://twitter.com/VolwerineLogan/status/1395021544506732550', 'https://twitter.com/DorotaGawor/status/1393637019058950151', 'https://twitter.com/rozovoye/status/1392960855986343941', 'https://twitter.com/dminiczka/status/1394235298326908933', 'https://twitter.com/dminiczka/status/1394235838901411847', 'https://twitter.com/annawcz2/status/1392843899442499589', 'https://twitter.com/MakeMak21449200/status/1394316528594694145', 'https://twitter.com/nobeatrycze/status/1393499146062020613', 'https://twitter.com/_awkward_x/status/1394652496551874570', 'https://twitter.com/SuperbizPL/status/1393814250439815171', 'https://twitter.com/Gasiu76/status/1393872851409723396', 'https://twitter.com/whotfismelka/status/1394970086864211971', 'https://twitter.com/home_pl/status/1394690718455709703', 'https://twitter.com/xbrainwashed/status/1392886358046281731', 'https://twitter.com/Bartek93794875/status/1394034731034071043', 'https://twitter.com/Bartek93794875/status/1394697302728749068', 'https://twitter.com/AnnaMarzec5/status/1393490256041848833', 'https://twitter.com/Wiktor99842152/status/1394976176549072900', 'https://twitter.com/Wiktor99842152/status/1394976660290691072', 'https://twitter.com/KrytykSpoeczny/status/1392925249734328325', 'https://twitter.com/shownuaw/status/1394966782973186049', 'https://twitter.com/ohhmykolumn/status/1392897058336555010', 'https://twitter.com/Joanna_zTorunia/status/1394600814019289091', 'https://twitter.com/jungkookie_mp4/status/1393524689360900106', 'https://twitter.com/Robert42493201/status/1394733723866763275', 'https://twitter.com/GutMostowy/status/1393540042392543233', 'https://twitter.com/diabelskaNoc/status/1394216721217638405', 'https://twitter.com/pulshr_pl/status/1394967593195343873', 'https://twitter.com/pulshr_pl/status/1395005599226683393', 'https://twitter.com/Gospodarka_PRSA/status/1393915217483116550', 'https://twitter.com/Jozek_Guardiola/status/1393148818175234049', 'https://twitter.com/deirdre0me/status/1394584899563175936', 'https://twitter.com/2225kuc/status/1394977211451682820', 'https://twitter.com/karonextdoor/status/1393140558437261313', 'https://twitter.com/interszansa/status/1393840899101270019', 'https://twitter.com/PrezesObywatel/status/1393909863152029702', 'https://twitter.com/egertoniara/status/1394680236550336520', 'https://twitter.com/czekinka/status/1394587013001715712', 'https://twitter.com/cowemoon/status/1392808257228578816', 'https://twitter.com/KrzyOlszewski/status/1392784326807412737', 'https://twitter.com/Justysia_W/status/1393908497977331712', 'https://twitter.com/VLOUNDERGROUND/status/1393651708765556740', 'https://twitter.com/VLOUNDERGROUND/status/1393147717342441474', 'https://twitter.com/VLOUNDERGROUND/status/1393147884288217088', 'https://twitter.com/ParlamentarnyPL/status/1393482527965433861', 'https://twitter.com/ParlamentarnyPL/status/1394964351514300417', 'https://twitter.com/tvp3szczecin/status/1394191676189646848', 'https://twitter.com/Kamil57130417/status/1394638596645216264', 'https://twitter.com/jobpoland/status/1392970506156974080', 'https://twitter.com/jobpoland/status/1394782429290934273', 'https://twitter.com/i_ren_official/status/1394305056216961034', 'https://twitter.com/MarekKopacz10/status/1393558514136584201', 'https://twitter.com/krystynaWarsaw/status/1394697274941485062', 'https://twitter.com/Paluc_6/status/1394348093760581634', 'https://twitter.com/olimpia_szuwar/status/1392785712488095744', 'https://twitter.com/RenataManikowsk/status/1393916259503312900', 'https://twitter.com/jestem_zjebemm/status/1394897289139920897', 'https://twitter.com/PrawoPLserwis/status/1394888074686078978', 'https://twitter.com/PrawoPLserwis/status/1394019888834953216', 'https://twitter.com/LechuTur/status/1392735320198860802', 'https://twitter.com/AwhMyLarry69/status/1392868694041182210', 'https://twitter.com/PIETRO_V_VOLPI/status/1394385691119951872', 'https://twitter.com/Joanna_Makosa/status/1392794157580697605', 'https://twitter.com/slice_of_love_/status/1394291922504716288', 'https://twitter.com/7bezAtu/status/1393234885171716111', 'https://twitter.com/amalenstwo/status/1394935628127686656', 'https://twitter.com/Halinka_Mercury/status/1393125610009120769', 'https://twitter.com/agraffka2/status/1395011483608748037', 'https://twitter.com/agraffka2/status/1394972163799724034', 'https://twitter.com/tiddlehiddle/status/1393996644916551699', 'https://twitter.com/tiddlehiddle/status/1394955767954956292', 'https://twitter.com/franek_timm/status/1394287589985763333', 'https://twitter.com/manakoniec/status/1393833718599622658', 'https://twitter.com/MarekJozefiak/status/1394572722852835329', 'https://twitter.com/Jzef13437877/status/1392990952273420292', 'https://twitter.com/Dzonu_/status/1394730527840686100', 'https://twitter.com/BonkolTV/status/1394239381645447170', 'https://twitter.com/damiankrawczyk8/status/1393931682303127554', 'https://twitter.com/adzysk/status/1394726563501989895', 'https://twitter.com/MarekManix/status/1393153234970238977', 'https://twitter.com/PVRISEXUAL/status/1393966531864842244', 'https://twitter.com/Laweta2/status/1393933930605252613', 'https://twitter.com/MisztalWiktor/status/1393482571569373184', 'https://twitter.com/pemmax/status/1394932542814425091', 'https://twitter.com/ngopl/status/1394608705413558275', 'https://twitter.com/AgnieszkaO2GA/status/1393701070719836165', 'https://twitter.com/sweettheartt_/status/1394921962900803584', 'https://twitter.com/GoogleCloud_PL/status/1394268968169336840', 'https://twitter.com/DemStory/status/1394271371102982146', 'https://twitter.com/OlaWasilewska77/status/1393480431878692868', 'https://twitter.com/OlaWasilewska77/status/1394349031346823184', 'https://twitter.com/CasperVanDeHag/status/1392868887503515656', 'https://twitter.com/BeaBea83731790/status/1394652695496167429', 'https://twitter.com/MagdaMarrkefka/status/1394693431495118849', 'https://twitter.com/mat3oosh/status/1394938680847081473', 'https://twitter.com/DanielSleboda/status/1393832569716805639', 'https://twitter.com/urwis1977/status/1394730240480514048', 'https://twitter.com/rdcpolskieradio/status/1393129029922738178', 'https://twitter.com/Joanna_D_a_r_c/status/1394220993820954629', 'https://twitter.com/amorrousbieber/status/1394913086574845953', 'https://twitter.com/Liwiaaewska/status/1394700983494758402', 'https://twitter.com/poprawnym2/status/1394643671086211080', 'https://twitter.com/wgospodarce/status/1393857862376513539', 'https://twitter.com/ZStolicy/status/1394975959833534464', 'https://twitter.com/PolskieSluzby/status/1393883575926263811', 'https://twitter.com/tabletowopl/status/1394986192391872514', 'https://twitter.com/Eksperci_WSB/status/1393151526168895492', 'https://twitter.com/StockWatchPL/status/1394623479635451904', 'https://twitter.com/Brzosti/status/1394288576716754946', 'https://twitter.com/Brzosti/status/1394209861349560321', 'https://twitter.com/Brzosti/status/1392971603038855170', 'https://twitter.com/Brzosti/status/1392793316509552648', 'https://twitter.com/strefainw/status/1394630931282075650', 'https://twitter.com/SpidersWebPL/status/1394981112284422144', 'https://twitter.com/PanZolty/status/1393244506800234496', 'https://twitter.com/se_pl/status/1393824520281133056', 'https://twitter.com/SiecObywatelska/status/1394555404600885248', 'https://twitter.com/forsalpl/status/1394568451830603776', 'https://twitter.com/forsalpl/status/1394971869992865805', 'https://twitter.com/forsalpl/status/1393848078839422976', 'https://twitter.com/BIPolska/status/1393070083082121218', 'https://twitter.com/BIPolska/status/1394965947736281088', 'https://twitter.com/MRiTGOVPL/status/1393533653716774912', 'https://twitter.com/BettyElaWhite/status/1394614919782359040', 'https://twitter.com/StZerko/status/1394348705541726212', 'https://twitter.com/Gosc_Niedzielny/status/1393840675234406400', 'https://twitter.com/MRiPS_GOV_PL/status/1394207002692362241', 'https://twitter.com/FAKT24PL/status/1393929233454419973', 'https://twitter.com/FAKT24PL/status/1395022421481205764', 'https://twitter.com/RuchNarodowy/status/1393149027978522626', 'https://twitter.com/michal_kolanko/status/1394599308046094341', 'https://twitter.com/DziennikPL/status/1394966077105483779', 'https://twitter.com/DziennikPL/status/1394202666834698250', 'https://twitter.com/RadioZET_NEWS/status/1392796148247797761', 'https://twitter.com/RepublikaTV/status/1393904031899262976', 'https://twitter.com/TVN24BiS/status/1394978896660078595', 'https://twitter.com/Jaroslaw_Gowin/status/1393556435867512838', 'https://twitter.com/PAPinformacje/status/1393829059314999300', 'https://twitter.com/PolsatNewsPL/status/1393813594270208002', 'https://twitter.com/RMF24pl/status/1393515591672160256', 'https://twitter.com/RMF24pl/status/1394965467001937923', 'https://twitter.com/rzeczpospolita/status/1394595366192836614', 'https://twitter.com/tvp_info/status/1394247826054389760', 'https://twitter.com/tvp_info/status/1394157094677491714', 'https://twitter.com/tvp_info/status/1394693226825764873', 'https://twitter.com/gazeta_wyborcza/status/1392735438725652482']\n"
          ]
        }
      ]
    },
    {
      "cell_type": "code",
      "source": [
        "#Pobierz wszystkie linki znajdujące się w tweetach i przekaż je do listy (kolumna urls)\n",
        "urls_2 = df['urls'].tolist()\n",
        "print(urls_2)"
      ],
      "metadata": {
        "colab": {
          "base_uri": "https://localhost:8080/"
        },
        "id": "Q0xI7bhwpSAI",
        "outputId": "ed861141-cb7e-42dd-ad28-cd7dd0753471"
      },
      "execution_count": 30,
      "outputs": [
        {
          "output_type": "stream",
          "name": "stdout",
          "text": [
            "[nan, 'https://www.pogotowiekomputerowe.waw.pl/', nan, nan, nan, nan, nan, nan, nan, nan, nan, nan, nan, nan, nan, nan, nan, nan, nan, nan, nan, nan, nan, nan, nan, nan, nan, nan, nan, nan, nan, nan, nan, nan, nan, nan, nan, nan, nan, nan, nan, nan, nan, nan, nan, nan, nan, 'http://m.in https://bit.ly/3bmBNzB', nan, nan, nan, nan, 'https://spidersweb.pl/2021/05/zdalna-operacja-kregoslupa-wspomagana-rozszerzona-rzeczywistoscia.html?utm_medium=push&utm_source=pushpushgo&utm_campaign=sw', nan, nan, 'http://dlvr.it/RzcQFW', nan, nan, nan, nan, nan, nan, nan, 'https://www.prawo.pl/kadry/praca-zdalna-czy-pracownik-moze-wyjechac-za-granice-i-tam,506709.html', nan, nan, 'https://m.youtube.com/watch?v=7Qon4f0khlA http://www.szolajski.com https://twitter.com/Szolajski_Legal/status/1392763633512423424', nan, nan, nan, nan, 'https://bit.ly/3bnaOnu', 'https://twitter.com/P_Zlo/status/1393168901240934404', nan, 'https://zyciestolicy.com.pl/projekt-ustawy-regulujacy-prace-zdalna-doplata-za-prad-i-internet-to-czesc-z-propozycji/', nan, nan, nan, nan, 'https://www.tvp.info/53844517/nauka-zdalna-stacjonarna-nowe-rozporzadzenie-powrot-do-szkol-kiedy-i-na-jakich-zasadach-beda-zajecia-w-szkolach-kiedy-powrot-pozostalych-rocznikow-nauka-hybrydowa-obostrzenia-w-maju', nan, nan, nan, nan, 'https://forwrd.it/r/3CCV/eyJyZiI6ImZhODc5NzRiLTE4NzktNDQ2Yy1iMDJjLTJmNzdmMjE5YjVjMiIsImVsIjoidHdpdHRlciIsImNkNyI6IltcIjc4YjBmYmUyLTc4YWMtNGJiMy05YTY2LTViY2EyMTAwMDQyY1wiLFwiaW1wb3J0LTIwMjEtMDEtMTVfMTAtMTZfYmY4ODg4ODUtMmJhNi00YzNiLTk3ZDUtMTZhY2U1M2M1OTMyLmNzdlwiXSJ9?utm_source=Ambassify&utm_medium=webview&utm_content=Dzieci%20w%20domu%20%7C%20Orange%20Polska', 'https://alleopole.pl/ogloszenie/31596/tlumacz-ze-znajomoscia-jezyka-rosyjskiego-praca-zdalna', 'https://alleopole.pl/ogloszenie/33026/asystent-w-dziale-kadrowym-%E2%80%93-praca-zdalna-', 'https://alleopole.pl/ogloszenie/33050/asystent-w-dziale-finansowym-%E2%80%93-praca-zdalna', 'https://alleopole.pl/ogloszenie/33861/rekruter-osoba-z-orzeczeniem-praca-zdalna', 'https://alleopole.pl/ogloszenie/33026/asystent-w-dziale-kadrowym-%E2%80%93-praca-zdalna-', 'https://alleopole.pl/ogloszenie/33381/analityk-ze-znajomoscia-jezyka-angielskiego-%E2%80%93-praca-zdalna', nan, nan, 'https://alleopole.pl/ogloszenie/33049/asystent-w-dziale-spedycji-morskiej-osoba-z-orzeczeniem-praca-zdalna', 'https://alleopole.pl/ogloszenie/33049/asystent-w-dziale-spedycji-morskiej-osoba-z-orzeczeniem-praca-zdalna', 'https://alleopole.pl/ogloszenie/33381/analityk-ze-znajomoscia-jezyka-angielskiego-%E2%80%93-praca-zdalna', 'https://alleopole.pl/ogloszenie/31596/tlumacz-ze-znajomoscia-jezyka-rosyjskiego-praca-zdalna', 'https://alleopole.pl/ogloszenie/33050/asystent-w-dziale-finansowym-%E2%80%93-praca-zdalna', 'https://alleopole.pl/ogloszenie/34070/analityk-ze-znajomoscia-programu-excel-praca-zdalna-z-orzeczeniem-o-niepelnosprawnosci', 'https://twitter.com/HIREMAIDEA/status/1393906089578536961', 'https://jaksierozwijac.pl/praca-zdalna-w-domu-zamiast-etatu/', 'https://jaksierozwijac.pl/jak-znalezc-prace-zdalna-i-swoich-marzen-w-olx/', nan, 'http://m.in http://niewidzialni.eu/Profilaktyka_po_pandemii,17989.html', nan, nan, nan, nan, nan, nan, nan, 'https://gospodarka.dziennik.pl/praca/artykuly/8164966,praca-zdalna-biura-powrot-pol-turysci.html?utm_source=dlvr.it&utm_medium=twitter', nan, nan, nan, nan, nan, nan, nan, nan, nan, nan, nan, nan, nan, nan, nan, nan, nan, nan, nan, nan, nan, nan, nan, nan, nan, nan, nan, nan, nan, 'https://forsal.pl/praca/aktualnosci/artykuly/8164601,projekt-ustawy-regulujacej-prace-zdalna.html?utm_source=dlvr.it&utm_medium=twitter', nan, nan, nan, 'https://wiadomosci.onet.pl/slask/oszustwo-na-zdalny-pulpit-27-latek-stracil-31-tys-zl/bn3b1ee', nan, nan, nan, nan, nan, nan, nan, nan, nan, 'https://brandsit.pl/gowin-w-przyszlym-tygodniu-przedstawimy-projekt-ustawy-regulujacej-prace-zdalna/', nan, 'https://twitter.com/visualizevalue/status/1393034234034638852', nan, nan, 'https://poradnikprzedsiebiorcy.pl/-zadaniowy-czas-pracy-czy-obejmuje-go-obowiazek-ewidencjonowania-godzin-pracy https://twitter.com/PawelBorys_/status/1394538557331623936', nan, nan, nan, 'https://jakdorobic.pl/praca-zdalna-8-pomyslow-na-prace-przez-internet/', nan, 'https://pzn.org.pl/praca-zdalna-dla-osob-niewidomych/', 'https://www.rp.pl/Podatek-dochodowy/305139994-Firma-odliczy-wydatki-na-prace-zdalna---stanowisko-Ministerstwa-Finansow.html http://prasowiec.pl', nan, nan, nan, nan, 'https://www.computerworld.pl/news/Bezpieczenstwo-w-dobie-home-office,427505.html', nan, nan, nan, nan, nan, nan, nan, 'http://zywiec.powiat.pl/post/xxv-zdalna-sesja-rady-powiatu-w-zywcu,4453.html', nan, nan, nan, nan, nan, 'https://gospodarka.dziennik.pl/praca/artykuly/8167209,praca-zdalna-iwona-michalek-ministerstwo-pracy.html?utm_source=dlvr.it&utm_medium=twitter', nan, nan, nan, nan, nan, nan, nan, nan, nan, 'https://wiadomosci.onet.pl/kraj/praca-zdalna-pracodawca-bedzie-refundowac-koszty-pradu-i-internetu/j0bsnmh', nan, nan, nan, nan, nan, nan, 'https://youtu.be/FpJpdTVfU_A', nan, nan, nan, nan, nan, nan, 'https://asseconews.pl/internetowe-biuro-obslugi-klienta-w-engie-ec-slupsk-od-asseco/', nan, nan, nan, nan, nan, nan, 'https://businessinsider.com.pl/twoje-pieniadze/praca/praca-zdalna-na-zadanie-co-jeszcze-zmieni-sie-w-kodeksie-pracy/kjlh94y', nan, nan, 'https://alleopole.pl/ogloszenie/33050/asystent-w-dziale-finansowym-%E2%80%93-praca-zdalna', 'https://alleopole.pl/ogloszenie/33049/asystent-w-dziale-spedycji-morskiej-osoba-z-orzeczeniem-praca-zdalna', 'https://alleopole.pl/ogloszenie/31596/tlumacz-ze-znajomoscia-jezyka-rosyjskiego-praca-zdalna', 'https://alleopole.pl/ogloszenie/31596/tlumacz-ze-znajomoscia-jezyka-rosyjskiego-praca-zdalna', 'https://alleopole.pl/ogloszenie/33026/asystent-w-dziale-kadrowym-%E2%80%93-praca-zdalna-', 'https://alleopole.pl/ogloszenie/33049/asystent-w-dziale-spedycji-morskiej-osoba-z-orzeczeniem-praca-zdalna', 'https://alleopole.pl/ogloszenie/33026/asystent-w-dziale-kadrowym-%E2%80%93-praca-zdalna-', 'https://alleopole.pl/ogloszenie/33050/asystent-w-dziale-finansowym-%E2%80%93-praca-zdalna', nan, nan, nan, nan, nan, nan, 'https://twitter.com/TurskiPrezesK/status/1394584986930589699', nan, 'https://twitter.com/TurskiPrezesK/status/1394564142028185608', nan, nan, nan, 'https://dorzeczy.pl/185263', nan, 'https://spidersweb.pl/bizblog/praca-zdalna-rachunki-prad-internet/', nan, nan, nan, nan, nan, nan, nan, nan, nan, nan, nan, nan, nan, 'https://twitter.com/laurenty_laura/status/1394006160538312711', nan, nan, nan, nan, nan, nan, nan, nan, nan, nan, nan, nan, nan, nan, nan, nan, nan, nan, nan, nan, nan, nan, nan, nan, 'https://docs.google.com/forms/d/1PVuuotIZvzVLFc5bjr-_PYzhjE6IHuT0hTgTXCVwCbA/edit', nan, nan, nan, nan, nan, nan, 'https://twitter.com/TurskiPrezesK/status/1394564142028185608', nan, nan, 'https://twitter.com/flickerniall93/status/1394275680288976901', nan, nan, nan, nan, nan, nan, 'https://twitter.com/szeftwitera/status/1394379320567685126', nan, nan, nan, nan, nan, nan, 'http://bit.ly/3tDuCJD', nan, nan, nan, nan, 'https://www.seg.org.pl/pl/cykl-webinariow-khr-praca-zdalna-godziny-pracy', 'https://serwisy.gazetaprawna.pl/edukacja/artykuly/1489588,swiadczenia-kompensacyjne-2020-koronawirus-starsi-nauczyciele-odchodza-ze-szkoly.html', nan, nan, nan, nan, 'https://twitter.com/PawelBorys_/status/1394538557331623936', nan, nan, nan, nan, nan, nan, nan, nan, nan, nan, 'https://superbiz.se.pl/prawo/szef-zaplaci-pracownikowi-za-koszty-pracy-w-domu-praca-zdalna-w-polsce-aa-R95X-m4QZ-WAoN.html', nan, nan, 'https://akademia.home.pl/webinar/praca-zdalna-z-pakietem-google-to-mozliwe/', nan, nan, nan, nan, 'https://zyciestolicy.com.pl/projekt-ustawy-regulujacy-prace-zdalna-doplata-za-prad-i-internet-to-czesc-z-propozycji/', 'https://zyciestolicy.com.pl/projekt-ustawy-regulujacy-prace-zdalna-doplata-za-prad-i-internet-to-czesc-z-propozycji/', nan, nan, nan, nan, nan, nan, nan, nan, 'https://bit.ly/3u29Seu', 'http://m.in https://www.pulshr.pl/prawo-pracy/pracodawca-poniesie-koszty-pracy-zdalnej-sa-nowe-przepisy-i-termin-ich-wejscia-w-zycie,81655.html', 'https://www.polskieradio24.pl/42/273/Artykul/2735171,Ustawa-regulujaca-prace-zdalna-jest-gotowa-W-przyszlym-tygodniu-resort-rozwoju-zaprezentuje-projekt', nan, nan, 'https://zyciestolicy.com.pl/projekt-ustawy-regulujacy-prace-zdalna-doplata-za-prad-i-internet-to-czesc-z-propozycji/', nan, nan, nan, nan, nan, nan, nan, nan, nan, nan, nan, nan, 'https://bit.ly/3u29Seu', 'https://bit.ly/3yjTFVp', 'https://twitter.com/maritosa1/status/1394637241247571970', 'http://poland.jobrat.net/2021/05/14/analityk-internetowy-tester-praca-zdalna-kujawsko-2/', 'https://poland.jobrat.net/2021/05/19/asystentka-praca-zdalna-warszawa/', nan, nan, nan, nan, nan, nan, nan, 'https://www.prawo.pl/kadry/praca-zdalna-w-epidemii-w-ue,508333.html', 'https://www.prawo.pl/kadry/praca-zdalna-kiedy-projekt-ustawy-trafi-do-konsultacji,508307.html', nan, nan, 'https://niezalezna.pl/395667-premier-szkola-zdalna-nie-jest-dobra', nan, nan, nan, nan, nan, 'https://wiadomosci.onet.pl/kraj/praca-zdalna-pracodawca-bedzie-refundowac-koszty-pradu-i-internetu/j0bsnmh', 'https://forsal.pl/praca/artykuly/8167245,michalek-konsultacje-dotyczace-zmian-regulujacych-prace-zdalna.html?utm_source=dlvr.it&utm_medium=twitter', nan, nan, nan, nan, 'https://twitter.com/XRebellionUK/status/1394559972579622912', nan, 'https://dorzeczy.pl/185263', nan, nan, 'https://dorzeczy.pl/185263', 'https://businessinsider.com.pl/56xwyf4', nan, nan, nan, nan, 'https://fakty.ngo.pl/raporty/praca-w-pandemii-2020-2021', nan, nan, nan, nan, 'https://twitter.com/DariuszRosati/status/1393478519267762181', nan, 'https://twitter.com/Miastoturystycz/status/1392867791028592648', nan, nan, nan, 'https://twitter.com/Bojar52Jarek/status/1393585113766809601', 'https://dorzeczy.pl/185263', 'https://bit.ly/3tMbDMW', 'https://www.tvp.info/53844517/nauka-zdalna-stacjonarna-nowe-rozporzadzenie-powrot-do-szkol-kiedy-i-na-jakich-zasadach-beda-zajecia-w-szkolach-kiedy-powrot-pozostalych-rocznikow-nauka-hybrydowa-obostrzenia-w-maju', nan, 'https://www.tvp.info/53869719/nauka-stacjonarna-i-nauka-zdalna-przemyslaw-czarnek-o-zmianach-w-programie-nauczania-lekcje-historii-i-polski-lad-minister-edukacji', 'https://twitter.com/OrdoMedicus/status/1394552108263919616', 'https://wgospodarce.pl/informacje/96285-gowin-w-przyszlym-tygodniu-projekt-regulujacy-prace-zdalna', 'https://zyciestolicy.com.pl/projekt-ustawy-regulujacy-prace-zdalna-doplata-za-prad-i-internet-to-czesc-z-propozycji/', 'https://www.polsatnews.pl/wiadomosc/2021-05-16/praca-zdalna-gowin-przedstawimy-projekt-ustawy-regulujacej/?ref=najnowsze', 'https://www.tabletowo.pl/google-workspace-smart-canvas-aktualizacja/', nan, 'https://www.stockwatch.pl/wiadomosci/cykl-webinariow-e-khr-praca-zdalna-a-godziny-pracy,notatki,288060', nan, nan, nan, nan, 'https://strefainwestorow.pl/wiadomosci/20210518/2005-webinar-e-khr-praca-zdalna-a-godziny-pracy', 'https://spidersweb.pl/bizblog/praca-zdalna-rachunki-prad-internet/', nan, 'https://superbiz.se.pl/prawo/szef-zaplaci-pracownikowi-za-koszty-pracy-w-domu-praca-zdalna-w-polsce-aa-R95X-m4QZ-WAoN.html', 'https://sprawdzamyjakjest.pl/#!/annotations/mission/12', 'https://forsal.pl/praca/aktualnosci/artykuly/8165816,praca-zdalna-w-ue-dane-dla-polski-eurostat.html?utm_source=dlvr.it&utm_medium=twitter', 'https://forsal.pl/praca/artykuly/8167245,michalek-konsultacje-dotyczace-zmian-regulujacych-prace-zdalna.html?utm_source=dlvr.it&utm_medium=twitter', 'https://forsal.pl/praca/aktualnosci/artykuly/8164601,projekt-ustawy-regulujacej-prace-zdalna.html?utm_source=dlvr.it&utm_medium=twitter', 'http://dlvr.it/RzcQFW', 'http://dlvr.it/RzyX2l', nan, nan, nan, 'https://www.gosc.pl/doc/6861895.Gowin-W-przyszlym-tygodniu-przedstawimy-projekt-ustawy', nan, 'https://www.fakt.pl/wydarzenia/polityka/jaroslaw-gowin-chce-uregulowac-prace-zdalna-jest-projekt-ustawy/dpz9c10', 'https://www.fakt.pl/pieniadze/prawo/praca-zdalna-przepisy-przewiduja-zwrot-wydatkow-za-energie-i-internet/ndctzym', nan, nan, 'https://gospodarka.dziennik.pl/praca/artykuly/8167209,praca-zdalna-iwona-michalek-ministerstwo-pracy.html?utm_source=dlvr.it&utm_medium=twitter', 'https://gospodarka.dziennik.pl/praca/artykuly/8164966,praca-zdalna-biura-powrot-pol-turysci.html?utm_source=dlvr.it&utm_medium=twitter', nan, 'https://tvrepublika.pl/Rzad-chce-uregulowac-prace-zdalna-Gowin-W-przyszlym-tygodniu-zaprezentujemy-projekt-ustawy,118725.html', 'https://tvn24.pl/biznes/z-kraju/praca-zdalna-w-kodeksie-pracy-ruszaja-konsultacje-5098320', nan, 'https://www.pap.pl/aktualnosci/news%2C872916%2Cgowin-w-przyszlym-tygodniu-przedstawimy-projekt-ustawy-regulujacej-prace', 'https://www.polsatnews.pl/wiadomosc/2021-05-16/praca-zdalna-gowin-przedstawimy-projekt-ustawy-regulujacej/?ref=aside_najnowsze', 'http://www.rmf24.pl/ekonomia/news-polski-lad-podatki-ulgi-i-praca-zdalna,nId,5233704', 'http://www.rmf24.pl/ekonomia/news-praca-zdalna-po-epidemii-szef-bedzie-musial-zaplacic-za-prad,nId,5241995', 'https://podcasty.rp.pl/audycje/mowia-prezydenci/13414-kaznowska-chaos-i-niepewnosc-towarzyszyly-nam-przez-caly-rok', 'https://www.tvp.info/53844517/nauka-zdalna-stacjonarna-nowe-rozporzadzenie-powrot-do-szkol-kiedy-i-na-jakich-zasadach-beda-zajecia-w-szkolach-kiedy-powrot-pozostalych-rocznikow-nauka-hybrydowa-obostrzenia-w-maju', 'https://www.tvp.info/53844517/nauka-zdalna-stacjonarna-nowe-rozporzadzenie-powrot-do-szkol-kiedy-i-na-jakich-zasadach-beda-zajecia-w-szkolach-kiedy-powrot-pozostalych-rocznikow-nauka-hybrydowa-obostrzenia-w-maju', 'https://www.tvp.info/53869719/nauka-stacjonarna-i-nauka-zdalna-przemyslaw-czarnek-o-zmianach-w-programie-nauczania-lekcje-historii-i-polski-lad-minister-edukacji', 'https://poznan.wyborcza.pl/poznan/7,36001,27073817,przemoc-rowiesnicza-w-zdalnej-szkole-istnieje-ale-dorosli.html?utm_source=facebook.com&utm_medium=SM&utm_campaign=FB_Gazeta_Wyborcza']\n"
          ]
        }
      ]
    },
    {
      "cell_type": "code",
      "source": [
        "#Pobierz wszystkie linki do obrazków i przekaż je do listy (kolumna media).\n",
        "urls_2 = df['media'].tolist()\n",
        "print(urls_2)"
      ],
      "metadata": {
        "colab": {
          "base_uri": "https://localhost:8080/"
        },
        "id": "dOSkXrhRpTFi",
        "outputId": "b901483b-e251-4373-cc68-26836747578e"
      },
      "execution_count": 31,
      "outputs": [
        {
          "output_type": "stream",
          "name": "stdout",
          "text": [
            "[nan, 'https://twitter.com/komplex_service/status/1394177631109660672/photo/1', nan, nan, nan, nan, nan, nan, nan, nan, nan, nan, nan, nan, nan, nan, nan, nan, nan, nan, nan, nan, nan, nan, nan, nan, nan, nan, nan, nan, nan, nan, nan, nan, nan, nan, nan, 'https://twitter.com/magru89/status/1392768392554106885/photo/1', nan, nan, nan, nan, nan, nan, nan, nan, nan, nan, nan, nan, 'https://twitter.com/Brzosti/status/1392793316509552648/photo/1', nan, nan, nan, nan, 'https://twitter.com/BIPolska/status/1393070083082121218/photo/1', nan, nan, nan, nan, nan, nan, nan, nan, nan, nan, nan, nan, nan, nan, nan, nan, nan, nan, nan, nan, nan, nan, nan, nan, nan, nan, nan, nan, nan, nan, nan, nan, nan, nan, nan, 'https://twitter.com/babkazpiasku/status/1394173534973345793/photo/1', nan, nan, nan, nan, nan, nan, nan, nan, nan, nan, nan, nan, nan, nan, nan, nan, nan, nan, nan, nan, nan, nan, nan, nan, nan, nan, nan, nan, nan, nan, nan, nan, nan, nan, nan, nan, nan, nan, nan, nan, nan, nan, nan, nan, nan, nan, nan, nan, nan, nan, nan, nan, nan, nan, nan, nan, nan, nan, nan, nan, nan, nan, nan, nan, nan, nan, nan, nan, nan, nan, 'https://twitter.com/Brzosti/status/1392793316509552648/photo/1', nan, nan, nan, nan, nan, nan, nan, nan, nan, nan, nan, nan, nan, nan, nan, nan, 'https://twitter.com/PlusWarszawa/status/1392906110995210242/photo/1', 'https://twitter.com/StarostwoZywiec/status/1394931180378677248/photo/1', nan, 'https://twitter.com/Brzosti/status/1392793316509552648/photo/1', nan, nan, nan, nan, nan, nan, nan, nan, nan, nan, nan, nan, nan, nan, 'https://twitter.com/charm_breeze/status/1394582372713107456/photo/1', nan, nan, nan, nan, nan, nan, nan, nan, nan, nan, nan, nan, nan, 'https://twitter.com/magru89/status/1392768392554106885/photo/1', nan, nan, nan, nan, nan, nan, 'https://twitter.com/matspcx/status/1394205815817613313/photo/1', nan, nan, nan, nan, nan, nan, nan, nan, nan, nan, nan, nan, nan, nan, nan, nan, nan, nan, nan, nan, nan, nan, nan, nan, nan, nan, nan, nan, nan, 'https://twitter.com/ThankYouNiall22/status/1394244423479869441/photo/1', nan, nan, nan, nan, nan, nan, nan, nan, nan, nan, nan, nan, 'https://twitter.com/huskion/status/1393058672872464385/photo/1', nan, nan, nan, nan, nan, nan, nan, nan, nan, nan, nan, nan, nan, nan, nan, nan, nan, nan, nan, nan, nan, nan, nan, nan, nan, nan, nan, nan, nan, nan, nan, nan, nan, nan, nan, nan, nan, nan, 'https://twitter.com/marychlak/status/1394999955316695047/photo/1', nan, nan, nan, nan, nan, nan, nan, nan, nan, 'https://twitter.com/emitenci/status/1394935010826858496/photo/1', nan, nan, nan, nan, nan, nan, nan, nan, nan, nan, nan, nan, 'https://twitter.com/Brzosti/status/1392793316509552648/photo/1', nan, nan, nan, nan, nan, nan, 'https://twitter.com/home_pl/status/1394690718455709703/photo/1', nan, nan, nan, nan, nan, nan, nan, nan, 'https://twitter.com/ohhmykolumn/status/1392897058336555010/photo/1', nan, nan, nan, nan, nan, nan, nan, nan, nan, nan, nan, nan, nan, 'https://twitter.com/PrezesObywatel/status/1393909863152029702/photo/1', nan, nan, nan, nan, nan, 'https://twitter.com/VLOUNDERGROUND/status/1393651708765556740/photo/1', nan, nan, nan, nan, 'https://twitter.com/tvp3szczecin/status/1394191676189646848/photo/1', nan, nan, nan, nan, nan, nan, nan, nan, nan, nan, nan, nan, 'https://twitter.com/LechuTur/status/1384324830288400392/photo/1', 'https://twitter.com/Brzosti/status/1392793316509552648/photo/1', nan, nan, nan, 'https://twitter.com/R_Kalmus/status/1393234885171716111/video/1', nan, nan, nan, nan, nan, nan, nan, nan, nan, nan, nan, 'https://twitter.com/BonkolTV/status/1394239381645447170/photo/1', nan, nan, nan, nan, nan, 'https://twitter.com/MisztalWiktor/status/1393482571569373184/photo/1', 'https://twitter.com/pemmax/status/1394932542814425091/photo/1', 'https://twitter.com/ngopl/status/1394608705413558275/photo/1', nan, nan, nan, nan, nan, nan, nan, nan, 'https://twitter.com/MagdaMarrkefka/status/1394693431495118849/photo/1', nan, nan, nan, 'https://twitter.com/rdcpolskieradio/status/1393129029922738178/photo/1', nan, nan, nan, nan, nan, nan, nan, nan, nan, nan, nan, nan, nan, 'https://twitter.com/Brzosti/status/1392793316509552648/photo/1', nan, nan, nan, nan, 'https://twitter.com/SiecObywatelska/status/1394555404600885248/photo/1', nan, nan, nan, 'https://twitter.com/BIPolska/status/1393070083082121218/photo/1', 'https://twitter.com/BIPolska/status/1394965947736281088/photo/1', nan, 'https://twitter.com/BettyElaWhite/status/1394614919782359040/photo/1', nan, nan, nan, nan, nan, nan, nan, nan, nan, nan, nan, nan, nan, nan, nan, nan, nan, nan, 'https://twitter.com/tvp_info/status/1394247826054389760/video/1', nan, nan, nan]\n"
          ]
        }
      ]
    },
    {
      "cell_type": "markdown",
      "source": [
        "Cześć 2"
      ],
      "metadata": {
        "id": "px5xUYq6tno5"
      }
    },
    {
      "cell_type": "code",
      "source": [
        "#Wypisz top5 tweetów z największa liczbą polubień\n",
        "df = df.sort_values(by='favorite_count', ascending=False)\n",
        "df = df.reset_index(drop=True)\n",
        "# print('Mean likes:', round(df['favorite_count'].mean(),2), '\\n') \n",
        "# print(df['created_at'])\n",
        "print('Top 5 liked tweets:') \n",
        "print(df[:5]['created_at'])\n",
        "\n",
        "\n",
        "# for i in range(5):\n",
        "#     print(df[['text']].ix[i], '-', df['favorite_count'].ix[i])\n"
      ],
      "metadata": {
        "colab": {
          "base_uri": "https://localhost:8080/"
        },
        "id": "lwmMKgrBtXuU",
        "outputId": "33d6742a-9873-43cb-b90f-da8790ca7791"
      },
      "execution_count": 8,
      "outputs": [
        {
          "output_type": "stream",
          "name": "stdout",
          "text": [
            "Top 5 liked tweets:\n",
            "0        czwartek May 13 10:46:18 +0000 2021\n",
            "1        czwartek May 13 22:34:44 +0000 2021\n",
            "2    poniedziałek May 17 08:35:08 +0000 2021\n",
            "3          wtorek May 18 11:24:42 +0000 2021\n",
            "4       niedziela May 16 12:49:11 +0000 2021\n",
            "Name: created_at, dtype: object\n"
          ]
        }
      ]
    },
    {
      "cell_type": "code",
      "source": [
        "#Wyświetl tylko te tweety, które nie są uznane jako “wrażliwe” (kolumna possibly_sensitive).\n",
        "\n",
        "pi = df[df['possibly_sensitive'] == False]\n",
        "print(pi['possibly_sensitive'])"
      ],
      "metadata": {
        "colab": {
          "base_uri": "https://localhost:8080/"
        },
        "id": "j2iLanhDQxPN",
        "outputId": "633af613-75eb-4739-d669-122cbf22ecb8"
      },
      "execution_count": 32,
      "outputs": [
        {
          "output_type": "stream",
          "name": "stdout",
          "text": [
            "396    False\n",
            "237    False\n",
            "125    False\n",
            "287    False\n",
            "78     False\n",
            "       ...  \n",
            "25     False\n",
            "35     False\n",
            "84     False\n",
            "5      False\n",
            "162    False\n",
            "Name: possibly_sensitive, Length: 149, dtype: object\n"
          ]
        }
      ]
    },
    {
      "cell_type": "code",
      "source": [
        "#Wyświetl tweety użytkownika, który założył konto najwcześniej (spośród wszystkich użytkowników w datasecie) (kolumna user_created_at).\n",
        "df['user_created_at'] = pd.to_datetime(df['user_created_at'])\n",
        "df = df.sort_values(by='user_created_at', ascending=True)\n",
        "# print(df['user_created_at'])\n",
        "\n",
        "user = df[:1]\n",
        "user_id = user['user_id']\n",
        "user_id = user_id.head()\n",
        "\n",
        "\n",
        "# Achived from first element in DF series\n",
        "user_id = 14366909\n",
        "user_tweets = df[df['user_id'] == user_id]\n",
        "print(user_tweets['text'])"
      ],
      "metadata": {
        "colab": {
          "base_uri": "https://localhost:8080/"
        },
        "id": "7lALv3QBR0c7",
        "outputId": "d78b5686-5877-46fa-cdf6-bb8bac0510e9"
      },
      "execution_count": 10,
      "outputs": [
        {
          "output_type": "stream",
          "name": "stdout",
          "text": [
            "297    @antybodys @leweserce @Filaczynska Przecież od...\n",
            "Name: text, dtype: object\n"
          ]
        }
      ]
    },
    {
      "cell_type": "code",
      "source": [
        "# Wyświetl tweety użytkownika. który ma najwięcej followersów.\n",
        "\n",
        "#df['user_followers_count'] = pd.to_datetime(df['user_followers_count'])\n",
        "\n",
        "df = df.sort_values(by='user_followers_count', ascending=True)\n",
        "# print(df['user_followers_count'])\n",
        "\n",
        "user = df[:1]\n",
        "user_id = user['user_id']\n",
        "user_id = user_id.head()\n",
        "#print(user_id)\n",
        "\n",
        "# Achived from first element in DF series\n",
        "user_id = 1392816189575925761\n",
        "user_tweets = df[df['user_id'] == user_id]\n",
        "print(user_tweets['text'])"
      ],
      "metadata": {
        "colab": {
          "base_uri": "https://localhost:8080/"
        },
        "id": "qQu1ZJPRZ4aN",
        "outputId": "d9a3d7ad-d808-44e4-ccf1-38251c94b1dc"
      },
      "execution_count": 33,
      "outputs": [
        {
          "output_type": "stream",
          "name": "stdout",
          "text": [
            "235    @MEIN_GOV_PL @MarzenaMachalek Uczniowie po 7 m...\n",
            "Name: text, dtype: object\n"
          ]
        }
      ]
    },
    {
      "cell_type": "code",
      "source": [
        "# Wyświetl tylko zweryfikowanych użytkowników (kolumna user_verified)\n",
        "\n",
        "uv = df[df['user_verified'] == True] \n",
        "print(uv['user_verified'])"
      ],
      "metadata": {
        "colab": {
          "base_uri": "https://localhost:8080/"
        },
        "id": "AH0x2zEvZwGM",
        "outputId": "3da23385-a17e-4890-eabb-cfff136911e5"
      },
      "execution_count": 34,
      "outputs": [
        {
          "output_type": "stream",
          "name": "stdout",
          "text": [
            "98     True\n",
            "438    True\n",
            "190    True\n",
            "178    True\n",
            "199    True\n",
            "209    True\n",
            "63     True\n",
            "427    True\n",
            "158    True\n",
            "143    True\n",
            "259    True\n",
            "111    True\n",
            "25     True\n",
            "84     True\n",
            "5      True\n",
            "35     True\n",
            "162    True\n",
            "Name: user_verified, dtype: bool\n"
          ]
        }
      ]
    },
    {
      "cell_type": "markdown",
      "source": [
        "Cześć 3 i 4 - niestety nie zrobiłam "
      ],
      "metadata": {
        "id": "QLyvkm6OWm0B"
      }
    },
    {
      "cell_type": "code",
      "source": [
        "# Rozpoznaj osoby (persName) i przekaż je do kolumny o nazwie persons\n",
        "\n",
        "df[df['text'] == '^@?(\\w{1,15})$']\n"
      ],
      "metadata": {
        "id": "_kLMrIl3anNa"
      },
      "execution_count": null,
      "outputs": []
    },
    {
      "cell_type": "code",
      "source": [
        "# Rozpoznaj miejsca (placeName) i przekaż je do kolumny o nazwie places\n"
      ],
      "metadata": {
        "id": "zVDuPXD5a7ge"
      },
      "execution_count": null,
      "outputs": []
    },
    {
      "cell_type": "code",
      "source": [
        ""
      ],
      "metadata": {
        "id": "BMJz10jUauO_"
      },
      "execution_count": null,
      "outputs": []
    }
  ]
}